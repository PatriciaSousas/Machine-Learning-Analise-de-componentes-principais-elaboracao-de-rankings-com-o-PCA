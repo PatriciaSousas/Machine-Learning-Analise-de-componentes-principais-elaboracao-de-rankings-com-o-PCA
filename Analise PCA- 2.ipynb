{
 "cells": [
  {
   "cell_type": "markdown",
   "id": "01d0f86a",
   "metadata": {},
   "source": [
    "# Analise Exploratoria "
   ]
  },
  {
   "cell_type": "code",
   "execution_count": 2,
   "id": "35bbd297",
   "metadata": {},
   "outputs": [
    {
     "data": {
      "text/html": [
       "<div>\n",
       "<style scoped>\n",
       "    .dataframe tbody tr th:only-of-type {\n",
       "        vertical-align: middle;\n",
       "    }\n",
       "\n",
       "    .dataframe tbody tr th {\n",
       "        vertical-align: top;\n",
       "    }\n",
       "\n",
       "    .dataframe thead th {\n",
       "        text-align: right;\n",
       "    }\n",
       "</style>\n",
       "<table border=\"1\" class=\"dataframe\">\n",
       "  <thead>\n",
       "    <tr style=\"text-align: right;\">\n",
       "      <th></th>\n",
       "      <th>cod_ibge</th>\n",
       "      <th>distritos</th>\n",
       "      <th>renda</th>\n",
       "      <th>quota</th>\n",
       "      <th>escolaridade</th>\n",
       "      <th>idade</th>\n",
       "      <th>mortalidade</th>\n",
       "      <th>txcresc</th>\n",
       "      <th>causasext</th>\n",
       "      <th>favel</th>\n",
       "      <th>denspop</th>\n",
       "    </tr>\n",
       "  </thead>\n",
       "  <tbody>\n",
       "    <tr>\n",
       "      <th>0</th>\n",
       "      <td>1</td>\n",
       "      <td>Água Rasa</td>\n",
       "      <td>1961</td>\n",
       "      <td>34.619999</td>\n",
       "      <td>7.6</td>\n",
       "      <td>32</td>\n",
       "      <td>13.86</td>\n",
       "      <td>-1.840000</td>\n",
       "      <td>52.980000</td>\n",
       "      <td>0.00</td>\n",
       "      <td>125.610001</td>\n",
       "    </tr>\n",
       "    <tr>\n",
       "      <th>1</th>\n",
       "      <td>12</td>\n",
       "      <td>Alto de Pinheiros</td>\n",
       "      <td>4180</td>\n",
       "      <td>75.959999</td>\n",
       "      <td>8.4</td>\n",
       "      <td>33</td>\n",
       "      <td>8.68</td>\n",
       "      <td>-2.520000</td>\n",
       "      <td>38.570000</td>\n",
       "      <td>0.69</td>\n",
       "      <td>57.560001</td>\n",
       "    </tr>\n",
       "    <tr>\n",
       "      <th>2</th>\n",
       "      <td>23</td>\n",
       "      <td>Anhanguera</td>\n",
       "      <td>1093</td>\n",
       "      <td>4.500000</td>\n",
       "      <td>5.8</td>\n",
       "      <td>23</td>\n",
       "      <td>15.36</td>\n",
       "      <td>18.120001</td>\n",
       "      <td>22.680000</td>\n",
       "      <td>0.00</td>\n",
       "      <td>8.570000</td>\n",
       "    </tr>\n",
       "    <tr>\n",
       "      <th>3</th>\n",
       "      <td>34</td>\n",
       "      <td>Aricanduva</td>\n",
       "      <td>1311</td>\n",
       "      <td>21.020000</td>\n",
       "      <td>6.8</td>\n",
       "      <td>27</td>\n",
       "      <td>18.43</td>\n",
       "      <td>-1.070000</td>\n",
       "      <td>76.220001</td>\n",
       "      <td>5.38</td>\n",
       "      <td>138.539993</td>\n",
       "    </tr>\n",
       "    <tr>\n",
       "      <th>4</th>\n",
       "      <td>45</td>\n",
       "      <td>Artur Alvim</td>\n",
       "      <td>1248</td>\n",
       "      <td>15.910000</td>\n",
       "      <td>7.0</td>\n",
       "      <td>27</td>\n",
       "      <td>19.73</td>\n",
       "      <td>-1.400000</td>\n",
       "      <td>67.250000</td>\n",
       "      <td>4.11</td>\n",
       "      <td>167.399994</td>\n",
       "    </tr>\n",
       "    <tr>\n",
       "      <th>...</th>\n",
       "      <td>...</td>\n",
       "      <td>...</td>\n",
       "      <td>...</td>\n",
       "      <td>...</td>\n",
       "      <td>...</td>\n",
       "      <td>...</td>\n",
       "      <td>...</td>\n",
       "      <td>...</td>\n",
       "      <td>...</td>\n",
       "      <td>...</td>\n",
       "      <td>...</td>\n",
       "    </tr>\n",
       "    <tr>\n",
       "      <th>91</th>\n",
       "      <td>92</td>\n",
       "      <td>Vila Medeiros</td>\n",
       "      <td>1405</td>\n",
       "      <td>19.760000</td>\n",
       "      <td>6.8</td>\n",
       "      <td>27</td>\n",
       "      <td>15.43</td>\n",
       "      <td>-1.410000</td>\n",
       "      <td>77.980003</td>\n",
       "      <td>2.49</td>\n",
       "      <td>188.929993</td>\n",
       "    </tr>\n",
       "    <tr>\n",
       "      <th>92</th>\n",
       "      <td>93</td>\n",
       "      <td>Vila Prudente</td>\n",
       "      <td>1755</td>\n",
       "      <td>32.080002</td>\n",
       "      <td>7.2</td>\n",
       "      <td>30</td>\n",
       "      <td>14.36</td>\n",
       "      <td>-2.550000</td>\n",
       "      <td>66.510002</td>\n",
       "      <td>7.43</td>\n",
       "      <td>101.440002</td>\n",
       "    </tr>\n",
       "    <tr>\n",
       "      <th>93</th>\n",
       "      <td>94</td>\n",
       "      <td>Vila Sônia</td>\n",
       "      <td>2970</td>\n",
       "      <td>41.410000</td>\n",
       "      <td>7.4</td>\n",
       "      <td>27</td>\n",
       "      <td>16.76</td>\n",
       "      <td>-0.900000</td>\n",
       "      <td>74.680000</td>\n",
       "      <td>14.93</td>\n",
       "      <td>80.120003</td>\n",
       "    </tr>\n",
       "    <tr>\n",
       "      <th>94</th>\n",
       "      <td>95</td>\n",
       "      <td>São Domingos</td>\n",
       "      <td>2047</td>\n",
       "      <td>23.510000</td>\n",
       "      <td>6.8</td>\n",
       "      <td>26</td>\n",
       "      <td>14.30</td>\n",
       "      <td>0.710000</td>\n",
       "      <td>62.349998</td>\n",
       "      <td>8.55</td>\n",
       "      <td>72.919998</td>\n",
       "    </tr>\n",
       "    <tr>\n",
       "      <th>95</th>\n",
       "      <td>96</td>\n",
       "      <td>Lajeado</td>\n",
       "      <td>775</td>\n",
       "      <td>8.490000</td>\n",
       "      <td>5.4</td>\n",
       "      <td>21</td>\n",
       "      <td>18.65</td>\n",
       "      <td>2.830000</td>\n",
       "      <td>103.320000</td>\n",
       "      <td>3.84</td>\n",
       "      <td>141.009995</td>\n",
       "    </tr>\n",
       "  </tbody>\n",
       "</table>\n",
       "<p>96 rows × 11 columns</p>\n",
       "</div>"
      ],
      "text/plain": [
       "    cod_ibge          distritos  renda      quota  escolaridade  idade  \\\n",
       "0          1          Água Rasa   1961  34.619999           7.6     32   \n",
       "1         12  Alto de Pinheiros   4180  75.959999           8.4     33   \n",
       "2         23         Anhanguera   1093   4.500000           5.8     23   \n",
       "3         34         Aricanduva   1311  21.020000           6.8     27   \n",
       "4         45        Artur Alvim   1248  15.910000           7.0     27   \n",
       "..       ...                ...    ...        ...           ...    ...   \n",
       "91        92      Vila Medeiros   1405  19.760000           6.8     27   \n",
       "92        93      Vila Prudente   1755  32.080002           7.2     30   \n",
       "93        94         Vila Sônia   2970  41.410000           7.4     27   \n",
       "94        95       São Domingos   2047  23.510000           6.8     26   \n",
       "95        96            Lajeado    775   8.490000           5.4     21   \n",
       "\n",
       "    mortalidade    txcresc   causasext  favel     denspop  \n",
       "0         13.86  -1.840000   52.980000   0.00  125.610001  \n",
       "1          8.68  -2.520000   38.570000   0.69   57.560001  \n",
       "2         15.36  18.120001   22.680000   0.00    8.570000  \n",
       "3         18.43  -1.070000   76.220001   5.38  138.539993  \n",
       "4         19.73  -1.400000   67.250000   4.11  167.399994  \n",
       "..          ...        ...         ...    ...         ...  \n",
       "91        15.43  -1.410000   77.980003   2.49  188.929993  \n",
       "92        14.36  -2.550000   66.510002   7.43  101.440002  \n",
       "93        16.76  -0.900000   74.680000  14.93   80.120003  \n",
       "94        14.30   0.710000   62.349998   8.55   72.919998  \n",
       "95        18.65   2.830000  103.320000   3.84  141.009995  \n",
       "\n",
       "[96 rows x 11 columns]"
      ]
     },
     "execution_count": 2,
     "metadata": {},
     "output_type": "execute_result"
    }
   ],
   "source": [
    "import pandas as pd\n",
    "distritos = pd.read_csv('distritos_sp.csv')\n",
    "distritos"
   ]
  },
  {
   "cell_type": "code",
   "execution_count": 3,
   "id": "44d4b36e",
   "metadata": {},
   "outputs": [
    {
     "name": "stdout",
     "output_type": "stream",
     "text": [
      "<class 'pandas.core.frame.DataFrame'>\n",
      "RangeIndex: 96 entries, 0 to 95\n",
      "Data columns (total 11 columns):\n",
      " #   Column        Non-Null Count  Dtype  \n",
      "---  ------        --------------  -----  \n",
      " 0   cod_ibge      96 non-null     int64  \n",
      " 1   distritos     96 non-null     object \n",
      " 2   renda         96 non-null     int64  \n",
      " 3   quota         96 non-null     float64\n",
      " 4   escolaridade  96 non-null     float64\n",
      " 5   idade         96 non-null     int64  \n",
      " 6   mortalidade   96 non-null     float64\n",
      " 7   txcresc       96 non-null     float64\n",
      " 8   causasext     96 non-null     float64\n",
      " 9   favel         96 non-null     float64\n",
      " 10  denspop       96 non-null     float64\n",
      "dtypes: float64(7), int64(3), object(1)\n",
      "memory usage: 8.4+ KB\n"
     ]
    }
   ],
   "source": [
    "#vou dropar as infor de cod_ibge e distritos\n",
    "#O PCA funciona apenas com dados numericos\n",
    "distritos.info()"
   ]
  },
  {
   "cell_type": "markdown",
   "id": "590c7f39",
   "metadata": {},
   "source": [
    "### O PCA agrupa as variaveis em fatores com base em correlações\n",
    "### por isso a ideia é construir uma matriz de correlação para entender\n",
    "### o grau de correlação, idealmente deve ser alto"
   ]
  },
  {
   "cell_type": "code",
   "execution_count": null,
   "id": "581e0f94",
   "metadata": {},
   "outputs": [],
   "source": []
  },
  {
   "cell_type": "markdown",
   "id": "ffe2307a",
   "metadata": {},
   "source": [
    "## Matriz de correlação"
   ]
  },
  {
   "cell_type": "code",
   "execution_count": 4,
   "id": "b0723178",
   "metadata": {},
   "outputs": [
    {
     "data": {
      "text/html": [
       "<div>\n",
       "<style scoped>\n",
       "    .dataframe tbody tr th:only-of-type {\n",
       "        vertical-align: middle;\n",
       "    }\n",
       "\n",
       "    .dataframe tbody tr th {\n",
       "        vertical-align: top;\n",
       "    }\n",
       "\n",
       "    .dataframe thead th {\n",
       "        text-align: right;\n",
       "    }\n",
       "</style>\n",
       "<table border=\"1\" class=\"dataframe\">\n",
       "  <thead>\n",
       "    <tr style=\"text-align: right;\">\n",
       "      <th></th>\n",
       "      <th>renda</th>\n",
       "      <th>quota</th>\n",
       "      <th>escolaridade</th>\n",
       "      <th>idade</th>\n",
       "      <th>mortalidade</th>\n",
       "      <th>txcresc</th>\n",
       "      <th>causasext</th>\n",
       "      <th>favel</th>\n",
       "      <th>denspop</th>\n",
       "    </tr>\n",
       "  </thead>\n",
       "  <tbody>\n",
       "    <tr>\n",
       "      <th>renda</th>\n",
       "      <td>1.000000</td>\n",
       "      <td>0.920099</td>\n",
       "      <td>0.777332</td>\n",
       "      <td>0.732307</td>\n",
       "      <td>-0.519585</td>\n",
       "      <td>-0.424711</td>\n",
       "      <td>-0.462516</td>\n",
       "      <td>-0.146957</td>\n",
       "      <td>-0.019711</td>\n",
       "    </tr>\n",
       "    <tr>\n",
       "      <th>quota</th>\n",
       "      <td>0.920099</td>\n",
       "      <td>1.000000</td>\n",
       "      <td>0.850455</td>\n",
       "      <td>0.832737</td>\n",
       "      <td>-0.520282</td>\n",
       "      <td>-0.554767</td>\n",
       "      <td>-0.491020</td>\n",
       "      <td>-0.243010</td>\n",
       "      <td>0.057374</td>\n",
       "    </tr>\n",
       "    <tr>\n",
       "      <th>escolaridade</th>\n",
       "      <td>0.777332</td>\n",
       "      <td>0.850455</td>\n",
       "      <td>1.000000</td>\n",
       "      <td>0.955825</td>\n",
       "      <td>-0.582601</td>\n",
       "      <td>-0.692968</td>\n",
       "      <td>-0.606621</td>\n",
       "      <td>-0.432548</td>\n",
       "      <td>0.157673</td>\n",
       "    </tr>\n",
       "    <tr>\n",
       "      <th>idade</th>\n",
       "      <td>0.732307</td>\n",
       "      <td>0.832737</td>\n",
       "      <td>0.955825</td>\n",
       "      <td>1.000000</td>\n",
       "      <td>-0.553758</td>\n",
       "      <td>-0.703237</td>\n",
       "      <td>-0.615073</td>\n",
       "      <td>-0.499838</td>\n",
       "      <td>0.141469</td>\n",
       "    </tr>\n",
       "    <tr>\n",
       "      <th>mortalidade</th>\n",
       "      <td>-0.519585</td>\n",
       "      <td>-0.520282</td>\n",
       "      <td>-0.582601</td>\n",
       "      <td>-0.553758</td>\n",
       "      <td>1.000000</td>\n",
       "      <td>0.346049</td>\n",
       "      <td>0.422790</td>\n",
       "      <td>0.130877</td>\n",
       "      <td>-0.093018</td>\n",
       "    </tr>\n",
       "    <tr>\n",
       "      <th>txcresc</th>\n",
       "      <td>-0.424711</td>\n",
       "      <td>-0.554767</td>\n",
       "      <td>-0.692968</td>\n",
       "      <td>-0.703237</td>\n",
       "      <td>0.346049</td>\n",
       "      <td>1.000000</td>\n",
       "      <td>0.234472</td>\n",
       "      <td>0.281853</td>\n",
       "      <td>-0.279084</td>\n",
       "    </tr>\n",
       "    <tr>\n",
       "      <th>causasext</th>\n",
       "      <td>-0.462516</td>\n",
       "      <td>-0.491020</td>\n",
       "      <td>-0.606621</td>\n",
       "      <td>-0.615073</td>\n",
       "      <td>0.422790</td>\n",
       "      <td>0.234472</td>\n",
       "      <td>1.000000</td>\n",
       "      <td>0.404447</td>\n",
       "      <td>-0.045281</td>\n",
       "    </tr>\n",
       "    <tr>\n",
       "      <th>favel</th>\n",
       "      <td>-0.146957</td>\n",
       "      <td>-0.243010</td>\n",
       "      <td>-0.432548</td>\n",
       "      <td>-0.499838</td>\n",
       "      <td>0.130877</td>\n",
       "      <td>0.281853</td>\n",
       "      <td>0.404447</td>\n",
       "      <td>1.000000</td>\n",
       "      <td>-0.106481</td>\n",
       "    </tr>\n",
       "    <tr>\n",
       "      <th>denspop</th>\n",
       "      <td>-0.019711</td>\n",
       "      <td>0.057374</td>\n",
       "      <td>0.157673</td>\n",
       "      <td>0.141469</td>\n",
       "      <td>-0.093018</td>\n",
       "      <td>-0.279084</td>\n",
       "      <td>-0.045281</td>\n",
       "      <td>-0.106481</td>\n",
       "      <td>1.000000</td>\n",
       "    </tr>\n",
       "  </tbody>\n",
       "</table>\n",
       "</div>"
      ],
      "text/plain": [
       "                 renda     quota  escolaridade     idade  mortalidade  \\\n",
       "renda         1.000000  0.920099      0.777332  0.732307    -0.519585   \n",
       "quota         0.920099  1.000000      0.850455  0.832737    -0.520282   \n",
       "escolaridade  0.777332  0.850455      1.000000  0.955825    -0.582601   \n",
       "idade         0.732307  0.832737      0.955825  1.000000    -0.553758   \n",
       "mortalidade  -0.519585 -0.520282     -0.582601 -0.553758     1.000000   \n",
       "txcresc      -0.424711 -0.554767     -0.692968 -0.703237     0.346049   \n",
       "causasext    -0.462516 -0.491020     -0.606621 -0.615073     0.422790   \n",
       "favel        -0.146957 -0.243010     -0.432548 -0.499838     0.130877   \n",
       "denspop      -0.019711  0.057374      0.157673  0.141469    -0.093018   \n",
       "\n",
       "               txcresc  causasext     favel   denspop  \n",
       "renda        -0.424711  -0.462516 -0.146957 -0.019711  \n",
       "quota        -0.554767  -0.491020 -0.243010  0.057374  \n",
       "escolaridade -0.692968  -0.606621 -0.432548  0.157673  \n",
       "idade        -0.703237  -0.615073 -0.499838  0.141469  \n",
       "mortalidade   0.346049   0.422790  0.130877 -0.093018  \n",
       "txcresc       1.000000   0.234472  0.281853 -0.279084  \n",
       "causasext     0.234472   1.000000  0.404447 -0.045281  \n",
       "favel         0.281853   0.404447  1.000000 -0.106481  \n",
       "denspop      -0.279084  -0.045281 -0.106481  1.000000  "
      ]
     },
     "execution_count": 4,
     "metadata": {},
     "output_type": "execute_result"
    }
   ],
   "source": [
    "# para cosntruir uma matriz eu dropo as colunas que nao vou usar\n",
    "# e já faço na mesma linha a correlacao \n",
    "variaveL_numerica = distritos.drop(['cod_ibge', 'distritos'], axis = 1)\n",
    "variaveL_numerica.corr()"
   ]
  },
  {
   "cell_type": "markdown",
   "id": "66c02df9",
   "metadata": {},
   "source": [
    "- Para confirmar se os dados estão se correlacionando bem eu uso a biblioteca fator_analyzer  ela ajuda a entender se os dados estão adequados\n",
    "- então se correlação das variaveis forem baixo, a base não é adequada para aplicar o PCA"
   ]
  },
  {
   "cell_type": "code",
   "execution_count": 5,
   "id": "5a45b3fe",
   "metadata": {},
   "outputs": [
    {
     "name": "stdout",
     "output_type": "stream",
     "text": [
      "Requirement already satisfied: Analyze in c:\\users\\patricia.sousa\\anaconda4\\lib\\site-packages (1.0.1)\n",
      "Requirement already satisfied: pandas in c:\\users\\patricia.sousa\\anaconda4\\lib\\site-packages (from Analyze) (1.4.2)\n",
      "Requirement already satisfied: scipy in c:\\users\\patricia.sousa\\anaconda4\\lib\\site-packages (from Analyze) (1.7.3)\n",
      "Requirement already satisfied: numpy in c:\\users\\patricia.sousa\\anaconda4\\lib\\site-packages (from Analyze) (1.21.5)\n",
      "Requirement already satisfied: pandas-profiling in c:\\users\\patricia.sousa\\anaconda4\\lib\\site-packages (from Analyze) (3.1.0)\n",
      "Requirement already satisfied: pytz>=2020.1 in c:\\users\\patricia.sousa\\anaconda4\\lib\\site-packages (from pandas->Analyze) (2021.3)\n",
      "Requirement already satisfied: python-dateutil>=2.8.1 in c:\\users\\patricia.sousa\\anaconda4\\lib\\site-packages (from pandas->Analyze) (2.8.2)\n",
      "Requirement already satisfied: six>=1.5 in c:\\users\\patricia.sousa\\anaconda4\\lib\\site-packages (from python-dateutil>=2.8.1->pandas->Analyze) (1.16.0)\n",
      "Requirement already satisfied: PyYAML>=5.0.0 in c:\\users\\patricia.sousa\\anaconda4\\lib\\site-packages (from pandas-profiling->Analyze) (6.0)\n",
      "Collecting joblib~=1.0.1\n",
      "  Using cached joblib-1.0.1-py3-none-any.whl (303 kB)\n",
      "Requirement already satisfied: htmlmin>=0.1.12 in c:\\users\\patricia.sousa\\anaconda4\\lib\\site-packages (from pandas-profiling->Analyze) (0.1.12)\n",
      "Requirement already satisfied: multimethod>=1.4 in c:\\users\\patricia.sousa\\anaconda4\\lib\\site-packages (from pandas-profiling->Analyze) (1.9)\n",
      "Requirement already satisfied: jinja2>=2.11.1 in c:\\users\\patricia.sousa\\anaconda4\\lib\\site-packages (from pandas-profiling->Analyze) (2.11.3)\n",
      "Requirement already satisfied: markupsafe~=2.0.1 in c:\\users\\patricia.sousa\\anaconda4\\lib\\site-packages (from pandas-profiling->Analyze) (2.0.1)\n",
      "Requirement already satisfied: requests>=2.24.0 in c:\\users\\patricia.sousa\\anaconda4\\lib\\site-packages (from pandas-profiling->Analyze) (2.27.1)\n",
      "Requirement already satisfied: seaborn>=0.10.1 in c:\\users\\patricia.sousa\\anaconda4\\lib\\site-packages (from pandas-profiling->Analyze) (0.12.2)\n",
      "Requirement already satisfied: missingno>=0.4.2 in c:\\users\\patricia.sousa\\anaconda4\\lib\\site-packages (from pandas-profiling->Analyze) (0.5.1)\n",
      "Requirement already satisfied: visions[type_image_path]==0.7.4 in c:\\users\\patricia.sousa\\anaconda4\\lib\\site-packages (from pandas-profiling->Analyze) (0.7.4)\n",
      "Requirement already satisfied: phik>=0.11.1 in c:\\users\\patricia.sousa\\anaconda4\\lib\\site-packages (from pandas-profiling->Analyze) (0.12.2)\n",
      "Requirement already satisfied: matplotlib>=3.2.0 in c:\\users\\patricia.sousa\\anaconda4\\lib\\site-packages (from pandas-profiling->Analyze) (3.5.1)\n",
      "Requirement already satisfied: tangled-up-in-unicode==0.1.0 in c:\\users\\patricia.sousa\\anaconda4\\lib\\site-packages (from pandas-profiling->Analyze) (0.1.0)\n",
      "Requirement already satisfied: pydantic>=1.8.1 in c:\\users\\patricia.sousa\\anaconda4\\lib\\site-packages (from pandas-profiling->Analyze) (1.10.2)\n",
      "Requirement already satisfied: tqdm>=4.48.2 in c:\\users\\patricia.sousa\\anaconda4\\lib\\site-packages (from pandas-profiling->Analyze) (4.64.0)\n",
      "Requirement already satisfied: attrs>=19.3.0 in c:\\users\\patricia.sousa\\anaconda4\\lib\\site-packages (from visions[type_image_path]==0.7.4->pandas-profiling->Analyze) (21.4.0)\n",
      "Requirement already satisfied: networkx>=2.4 in c:\\users\\patricia.sousa\\anaconda4\\lib\\site-packages (from visions[type_image_path]==0.7.4->pandas-profiling->Analyze) (2.7.1)\n",
      "Requirement already satisfied: imagehash in c:\\users\\patricia.sousa\\anaconda4\\lib\\site-packages (from visions[type_image_path]==0.7.4->pandas-profiling->Analyze) (4.3.1)\n",
      "Requirement already satisfied: Pillow in c:\\users\\patricia.sousa\\anaconda4\\lib\\site-packages (from visions[type_image_path]==0.7.4->pandas-profiling->Analyze) (9.0.1)\n",
      "Requirement already satisfied: kiwisolver>=1.0.1 in c:\\users\\patricia.sousa\\anaconda4\\lib\\site-packages (from matplotlib>=3.2.0->pandas-profiling->Analyze) (1.3.2)\n",
      "Requirement already satisfied: pyparsing>=2.2.1 in c:\\users\\patricia.sousa\\anaconda4\\lib\\site-packages (from matplotlib>=3.2.0->pandas-profiling->Analyze) (3.0.4)\n",
      "Requirement already satisfied: fonttools>=4.22.0 in c:\\users\\patricia.sousa\\anaconda4\\lib\\site-packages (from matplotlib>=3.2.0->pandas-profiling->Analyze) (4.25.0)\n",
      "Requirement already satisfied: cycler>=0.10 in c:\\users\\patricia.sousa\\anaconda4\\lib\\site-packages (from matplotlib>=3.2.0->pandas-profiling->Analyze) (0.11.0)\n",
      "Requirement already satisfied: packaging>=20.0 in c:\\users\\patricia.sousa\\anaconda4\\lib\\site-packages (from matplotlib>=3.2.0->pandas-profiling->Analyze) (21.3)\n",
      "Requirement already satisfied: typing-extensions>=4.1.0 in c:\\users\\patricia.sousa\\anaconda4\\lib\\site-packages (from pydantic>=1.8.1->pandas-profiling->Analyze) (4.1.1)\n",
      "Requirement already satisfied: charset-normalizer~=2.0.0 in c:\\users\\patricia.sousa\\anaconda4\\lib\\site-packages (from requests>=2.24.0->pandas-profiling->Analyze) (2.0.4)\n",
      "Requirement already satisfied: idna<4,>=2.5 in c:\\users\\patricia.sousa\\anaconda4\\lib\\site-packages (from requests>=2.24.0->pandas-profiling->Analyze) (3.3)\n",
      "Requirement already satisfied: urllib3<1.27,>=1.21.1 in c:\\users\\patricia.sousa\\anaconda4\\lib\\site-packages (from requests>=2.24.0->pandas-profiling->Analyze) (1.26.9)\n",
      "Requirement already satisfied: certifi>=2017.4.17 in c:\\users\\patricia.sousa\\anaconda4\\lib\\site-packages (from requests>=2.24.0->pandas-profiling->Analyze) (2022.12.7)\n",
      "Requirement already satisfied: colorama in c:\\users\\patricia.sousa\\anaconda4\\lib\\site-packages (from tqdm>=4.48.2->pandas-profiling->Analyze) (0.4.4)\n"
     ]
    },
    {
     "name": "stderr",
     "output_type": "stream",
     "text": [
      "ERROR: pip's dependency resolver does not currently take into account all the packages that are installed. This behaviour is the source of the following dependency conflicts.\n",
      "scikit-learn 1.2.1 requires joblib>=1.1.1, but you have joblib 1.0.1 which is incompatible.\n"
     ]
    },
    {
     "name": "stdout",
     "output_type": "stream",
     "text": [
      "Requirement already satisfied: PyWavelets in c:\\users\\patricia.sousa\\anaconda4\\lib\\site-packages (from imagehash->visions[type_image_path]==0.7.4->pandas-profiling->Analyze) (1.3.0)\n",
      "Installing collected packages: joblib\n",
      "  Attempting uninstall: joblib\n",
      "    Found existing installation: joblib 1.2.0\n",
      "    Uninstalling joblib-1.2.0:\n",
      "      Successfully uninstalled joblib-1.2.0\n",
      "Successfully installed joblib-1.0.1\n",
      "Requirement already satisfied: factor_analyzer in c:\\users\\patricia.sousa\\anaconda4\\lib\\site-packages (0.4.1)"
     ]
    },
    {
     "name": "stderr",
     "output_type": "stream",
     "text": [
      "ERROR: pip's dependency resolver does not currently take into account all the packages that are installed. This behaviour is the source of the following dependency conflicts.\n",
      "pandas-profiling 3.1.0 requires joblib~=1.0.1, but you have joblib 1.2.0 which is incompatible.\n"
     ]
    },
    {
     "name": "stdout",
     "output_type": "stream",
     "text": [
      "\n",
      "Requirement already satisfied: pandas in c:\\users\\patricia.sousa\\anaconda4\\lib\\site-packages (from factor_analyzer) (1.4.2)\n",
      "Requirement already satisfied: numpy in c:\\users\\patricia.sousa\\anaconda4\\lib\\site-packages (from factor_analyzer) (1.21.5)\n",
      "Requirement already satisfied: scipy in c:\\users\\patricia.sousa\\anaconda4\\lib\\site-packages (from factor_analyzer) (1.7.3)\n",
      "Requirement already satisfied: scikit-learn in c:\\users\\patricia.sousa\\anaconda4\\lib\\site-packages (from factor_analyzer) (1.2.1)\n",
      "Requirement already satisfied: pre-commit in c:\\users\\patricia.sousa\\anaconda4\\lib\\site-packages (from factor_analyzer) (3.2.0)\n",
      "Requirement already satisfied: pytz>=2020.1 in c:\\users\\patricia.sousa\\anaconda4\\lib\\site-packages (from pandas->factor_analyzer) (2021.3)\n",
      "Requirement already satisfied: python-dateutil>=2.8.1 in c:\\users\\patricia.sousa\\anaconda4\\lib\\site-packages (from pandas->factor_analyzer) (2.8.2)\n",
      "Requirement already satisfied: six>=1.5 in c:\\users\\patricia.sousa\\anaconda4\\lib\\site-packages (from python-dateutil>=2.8.1->pandas->factor_analyzer) (1.16.0)\n",
      "Requirement already satisfied: virtualenv>=20.10.0 in c:\\users\\patricia.sousa\\anaconda4\\lib\\site-packages (from pre-commit->factor_analyzer) (20.21.0)\n",
      "Requirement already satisfied: identify>=1.0.0 in c:\\users\\patricia.sousa\\anaconda4\\lib\\site-packages (from pre-commit->factor_analyzer) (2.5.21)\n",
      "Requirement already satisfied: nodeenv>=0.11.1 in c:\\users\\patricia.sousa\\anaconda4\\lib\\site-packages (from pre-commit->factor_analyzer) (1.7.0)\n",
      "Requirement already satisfied: pyyaml>=5.1 in c:\\users\\patricia.sousa\\anaconda4\\lib\\site-packages (from pre-commit->factor_analyzer) (6.0)\n",
      "Requirement already satisfied: cfgv>=2.0.0 in c:\\users\\patricia.sousa\\anaconda4\\lib\\site-packages (from pre-commit->factor_analyzer) (3.3.1)\n",
      "Requirement already satisfied: setuptools in c:\\users\\patricia.sousa\\anaconda4\\lib\\site-packages (from nodeenv>=0.11.1->pre-commit->factor_analyzer) (61.2.0)\n",
      "Requirement already satisfied: filelock<4,>=3.4.1 in c:\\users\\patricia.sousa\\anaconda4\\lib\\site-packages (from virtualenv>=20.10.0->pre-commit->factor_analyzer) (3.6.0)\n",
      "Requirement already satisfied: distlib<1,>=0.3.6 in c:\\users\\patricia.sousa\\anaconda4\\lib\\site-packages (from virtualenv>=20.10.0->pre-commit->factor_analyzer) (0.3.6)\n",
      "Requirement already satisfied: platformdirs<4,>=2.4 in c:\\users\\patricia.sousa\\anaconda4\\lib\\site-packages (from virtualenv>=20.10.0->pre-commit->factor_analyzer) (3.1.1)\n",
      "Requirement already satisfied: threadpoolctl>=2.0.0 in c:\\users\\patricia.sousa\\anaconda4\\lib\\site-packages (from scikit-learn->factor_analyzer) (2.2.0)\n",
      "Collecting joblib>=1.1.1\n",
      "  Using cached joblib-1.2.0-py3-none-any.whl (297 kB)\n",
      "Installing collected packages: joblib\n",
      "  Attempting uninstall: joblib\n",
      "    Found existing installation: joblib 1.0.1\n",
      "    Uninstalling joblib-1.0.1:\n",
      "      Successfully uninstalled joblib-1.0.1\n",
      "Successfully installed joblib-1.2.0\n"
     ]
    }
   ],
   "source": [
    "#Libs fatpr analyzer\n",
    "!pip install Analyze\n",
    "!pip install factor_analyzer"
   ]
  },
  {
   "cell_type": "markdown",
   "id": "c8f49e6f",
   "metadata": {},
   "source": [
    "### Para entender se os dados são bons para aplicar o PCA\n",
    "### Irei aplicar algumas tecnicas com criterio de KMO e Teste de esfericidade de Bartlett\n",
    "----------------------------------------------------------------------------------------------------------\n",
    "## Criterio de KMO: \n",
    "### é uma estatística que indica a proporção\n",
    "### da variância dos dados que pode ser considerada comum a todas as variáveis, ou\n",
    "### seja, que pode ser atribuída a um fator comum. Quanto mais próximo de 1 melhor\n",
    "### o resultado, ou seja, mais adequada é a amostra à aplicação da análise fatorial\n",
    "----------------------------------------------------------------------------------------------------------\n",
    "## Teste de esfericidade de Bartlett\n",
    "\n",
    "### é um teste de hipótese com o intuito de checar se a matriz de correlação é diferente de uma matriz identidade\n",
    "###  se baseando em 0 e 1, se as variaveis forem acima de 0 \n",
    "### isso demostra que dentro da base analisando existe correlacao entre os dados \n"
   ]
  },
  {
   "cell_type": "code",
   "execution_count": null,
   "id": "09af836c",
   "metadata": {},
   "outputs": [],
   "source": []
  },
  {
   "cell_type": "markdown",
   "id": "6e454114",
   "metadata": {},
   "source": [
    "### Criterio de KMO"
   ]
  },
  {
   "cell_type": "code",
   "execution_count": 6,
   "id": "151aa7cf",
   "metadata": {},
   "outputs": [],
   "source": [
    "from factor_analyzer.factor_analyzer import calculate_kmo"
   ]
  },
  {
   "cell_type": "code",
   "execution_count": 7,
   "id": "39e16d1b",
   "metadata": {},
   "outputs": [],
   "source": [
    "# instancio a biblioteca e faço a transformação para entender o kmo \n",
    "#tanto global como as variaveis, e existe uma regra que os dados deve ser acima de 0.5 \n",
    "#só assim é considerado bom\n",
    "kmo_variaveis, kmo = calculate_kmo(variaveL_numerica)"
   ]
  },
  {
   "cell_type": "code",
   "execution_count": 8,
   "id": "78210803",
   "metadata": {},
   "outputs": [
    {
     "data": {
      "text/plain": [
       "array([0.77821831, 0.81941916, 0.8560973 , 0.81750459, 0.94677797,\n",
       "       0.84146713, 0.89083164, 0.78871213, 0.63275248])"
      ]
     },
     "execution_count": 8,
     "metadata": {},
     "output_type": "execute_result"
    }
   ],
   "source": [
    "kmo_variaveis"
   ]
  },
  {
   "cell_type": "code",
   "execution_count": 9,
   "id": "8a40fb45",
   "metadata": {},
   "outputs": [
    {
     "data": {
      "text/plain": [
       "0.833091424182929"
      ]
     },
     "execution_count": 9,
     "metadata": {},
     "output_type": "execute_result"
    }
   ],
   "source": [
    "#quanto mais proximo de 1 é uma base boa para aplicar o PCA\n",
    "#tanto o global como as variaveis estão acima \n",
    "kmo"
   ]
  },
  {
   "cell_type": "markdown",
   "id": "78e8e60d",
   "metadata": {},
   "source": [
    "###  Teste de esfericidade de Bartlett"
   ]
  },
  {
   "cell_type": "code",
   "execution_count": 10,
   "id": "bed2f761",
   "metadata": {},
   "outputs": [],
   "source": [
    "from factor_analyzer.factor_analyzer import calculate_bartlett_sphericity"
   ]
  },
  {
   "cell_type": "code",
   "execution_count": 11,
   "id": "e112b70a",
   "metadata": {},
   "outputs": [
    {
     "name": "stdout",
     "output_type": "stream",
     "text": [
      "748.1593126421548\n",
      "5.607017481838534e-134\n"
     ]
    }
   ],
   "source": [
    "# seguindo a mesma logica acima, aqui eu tenho retorno de dois valores\n",
    "\n",
    "qui_quadrado, pvalor= calculate_bartlett_sphericity(variaveL_numerica)\n",
    "\n",
    "print(qui_quadrado)\n",
    "print(pvalor)"
   ]
  },
  {
   "cell_type": "code",
   "execution_count": 12,
   "id": "b572c8af",
   "metadata": {},
   "outputs": [
    {
     "data": {
      "text/html": [
       "<div>\n",
       "<style scoped>\n",
       "    .dataframe tbody tr th:only-of-type {\n",
       "        vertical-align: middle;\n",
       "    }\n",
       "\n",
       "    .dataframe tbody tr th {\n",
       "        vertical-align: top;\n",
       "    }\n",
       "\n",
       "    .dataframe thead th {\n",
       "        text-align: right;\n",
       "    }\n",
       "</style>\n",
       "<table border=\"1\" class=\"dataframe\">\n",
       "  <thead>\n",
       "    <tr style=\"text-align: right;\">\n",
       "      <th></th>\n",
       "      <th>renda</th>\n",
       "      <th>quota</th>\n",
       "      <th>escolaridade</th>\n",
       "      <th>idade</th>\n",
       "      <th>mortalidade</th>\n",
       "      <th>txcresc</th>\n",
       "      <th>causasext</th>\n",
       "      <th>favel</th>\n",
       "      <th>denspop</th>\n",
       "    </tr>\n",
       "  </thead>\n",
       "  <tbody>\n",
       "    <tr>\n",
       "      <th>0</th>\n",
       "      <td>1961</td>\n",
       "      <td>34.619999</td>\n",
       "      <td>7.6</td>\n",
       "      <td>32</td>\n",
       "      <td>13.86</td>\n",
       "      <td>-1.840000</td>\n",
       "      <td>52.980000</td>\n",
       "      <td>0.00</td>\n",
       "      <td>125.610001</td>\n",
       "    </tr>\n",
       "    <tr>\n",
       "      <th>1</th>\n",
       "      <td>4180</td>\n",
       "      <td>75.959999</td>\n",
       "      <td>8.4</td>\n",
       "      <td>33</td>\n",
       "      <td>8.68</td>\n",
       "      <td>-2.520000</td>\n",
       "      <td>38.570000</td>\n",
       "      <td>0.69</td>\n",
       "      <td>57.560001</td>\n",
       "    </tr>\n",
       "    <tr>\n",
       "      <th>2</th>\n",
       "      <td>1093</td>\n",
       "      <td>4.500000</td>\n",
       "      <td>5.8</td>\n",
       "      <td>23</td>\n",
       "      <td>15.36</td>\n",
       "      <td>18.120001</td>\n",
       "      <td>22.680000</td>\n",
       "      <td>0.00</td>\n",
       "      <td>8.570000</td>\n",
       "    </tr>\n",
       "    <tr>\n",
       "      <th>3</th>\n",
       "      <td>1311</td>\n",
       "      <td>21.020000</td>\n",
       "      <td>6.8</td>\n",
       "      <td>27</td>\n",
       "      <td>18.43</td>\n",
       "      <td>-1.070000</td>\n",
       "      <td>76.220001</td>\n",
       "      <td>5.38</td>\n",
       "      <td>138.539993</td>\n",
       "    </tr>\n",
       "    <tr>\n",
       "      <th>4</th>\n",
       "      <td>1248</td>\n",
       "      <td>15.910000</td>\n",
       "      <td>7.0</td>\n",
       "      <td>27</td>\n",
       "      <td>19.73</td>\n",
       "      <td>-1.400000</td>\n",
       "      <td>67.250000</td>\n",
       "      <td>4.11</td>\n",
       "      <td>167.399994</td>\n",
       "    </tr>\n",
       "    <tr>\n",
       "      <th>...</th>\n",
       "      <td>...</td>\n",
       "      <td>...</td>\n",
       "      <td>...</td>\n",
       "      <td>...</td>\n",
       "      <td>...</td>\n",
       "      <td>...</td>\n",
       "      <td>...</td>\n",
       "      <td>...</td>\n",
       "      <td>...</td>\n",
       "    </tr>\n",
       "    <tr>\n",
       "      <th>91</th>\n",
       "      <td>1405</td>\n",
       "      <td>19.760000</td>\n",
       "      <td>6.8</td>\n",
       "      <td>27</td>\n",
       "      <td>15.43</td>\n",
       "      <td>-1.410000</td>\n",
       "      <td>77.980003</td>\n",
       "      <td>2.49</td>\n",
       "      <td>188.929993</td>\n",
       "    </tr>\n",
       "    <tr>\n",
       "      <th>92</th>\n",
       "      <td>1755</td>\n",
       "      <td>32.080002</td>\n",
       "      <td>7.2</td>\n",
       "      <td>30</td>\n",
       "      <td>14.36</td>\n",
       "      <td>-2.550000</td>\n",
       "      <td>66.510002</td>\n",
       "      <td>7.43</td>\n",
       "      <td>101.440002</td>\n",
       "    </tr>\n",
       "    <tr>\n",
       "      <th>93</th>\n",
       "      <td>2970</td>\n",
       "      <td>41.410000</td>\n",
       "      <td>7.4</td>\n",
       "      <td>27</td>\n",
       "      <td>16.76</td>\n",
       "      <td>-0.900000</td>\n",
       "      <td>74.680000</td>\n",
       "      <td>14.93</td>\n",
       "      <td>80.120003</td>\n",
       "    </tr>\n",
       "    <tr>\n",
       "      <th>94</th>\n",
       "      <td>2047</td>\n",
       "      <td>23.510000</td>\n",
       "      <td>6.8</td>\n",
       "      <td>26</td>\n",
       "      <td>14.30</td>\n",
       "      <td>0.710000</td>\n",
       "      <td>62.349998</td>\n",
       "      <td>8.55</td>\n",
       "      <td>72.919998</td>\n",
       "    </tr>\n",
       "    <tr>\n",
       "      <th>95</th>\n",
       "      <td>775</td>\n",
       "      <td>8.490000</td>\n",
       "      <td>5.4</td>\n",
       "      <td>21</td>\n",
       "      <td>18.65</td>\n",
       "      <td>2.830000</td>\n",
       "      <td>103.320000</td>\n",
       "      <td>3.84</td>\n",
       "      <td>141.009995</td>\n",
       "    </tr>\n",
       "  </tbody>\n",
       "</table>\n",
       "<p>96 rows × 9 columns</p>\n",
       "</div>"
      ],
      "text/plain": [
       "    renda      quota  escolaridade  idade  mortalidade    txcresc   causasext  \\\n",
       "0    1961  34.619999           7.6     32        13.86  -1.840000   52.980000   \n",
       "1    4180  75.959999           8.4     33         8.68  -2.520000   38.570000   \n",
       "2    1093   4.500000           5.8     23        15.36  18.120001   22.680000   \n",
       "3    1311  21.020000           6.8     27        18.43  -1.070000   76.220001   \n",
       "4    1248  15.910000           7.0     27        19.73  -1.400000   67.250000   \n",
       "..    ...        ...           ...    ...          ...        ...         ...   \n",
       "91   1405  19.760000           6.8     27        15.43  -1.410000   77.980003   \n",
       "92   1755  32.080002           7.2     30        14.36  -2.550000   66.510002   \n",
       "93   2970  41.410000           7.4     27        16.76  -0.900000   74.680000   \n",
       "94   2047  23.510000           6.8     26        14.30   0.710000   62.349998   \n",
       "95    775   8.490000           5.4     21        18.65   2.830000  103.320000   \n",
       "\n",
       "    favel     denspop  \n",
       "0    0.00  125.610001  \n",
       "1    0.69   57.560001  \n",
       "2    0.00    8.570000  \n",
       "3    5.38  138.539993  \n",
       "4    4.11  167.399994  \n",
       "..    ...         ...  \n",
       "91   2.49  188.929993  \n",
       "92   7.43  101.440002  \n",
       "93  14.93   80.120003  \n",
       "94   8.55   72.919998  \n",
       "95   3.84  141.009995  \n",
       "\n",
       "[96 rows x 9 columns]"
      ]
     },
     "execution_count": 12,
     "metadata": {},
     "output_type": "execute_result"
    }
   ],
   "source": [
    "#chamo novamente a variavel para entender qual a escala dos numeros, \n",
    "#uma escala desproporcial afeta negativamente meu modelo \n",
    "# consigo identificar que a escala de numeros são diferentes para as variaveis \n",
    "# renda, escolaridade e taxcresc\n",
    "variaveL_numerica"
   ]
  },
  {
   "cell_type": "markdown",
   "id": "b2929f4b",
   "metadata": {},
   "source": [
    "# Executando o PCA com Standard Scaler\n",
    "### essas variáveis não estão em uma mesma escala, algo que vai impactar negativamente no procedimento de PCA\n",
    "### então eu aplico o Standard Scaler para balancear esses dados, devolvendo um array com dados padronizados"
   ]
  },
  {
   "cell_type": "code",
   "execution_count": 13,
   "id": "9e351c82",
   "metadata": {},
   "outputs": [],
   "source": [
    "from sklearn.preprocessing import StandardScaler"
   ]
  },
  {
   "cell_type": "code",
   "execution_count": 14,
   "id": "c310054d",
   "metadata": {},
   "outputs": [
    {
     "data": {
      "text/plain": [
       "Index(['renda', 'quota', 'escolaridade', 'idade', 'mortalidade', 'txcresc',\n",
       "       'causasext', 'favel', 'denspop'],\n",
       "      dtype='object')"
      ]
     },
     "execution_count": 14,
     "metadata": {},
     "output_type": "execute_result"
    }
   ],
   "source": [
    "colunas_numericas = variaveL_numerica.columns\n",
    "colunas_numericas"
   ]
  },
  {
   "cell_type": "code",
   "execution_count": 15,
   "id": "3c4d9f98",
   "metadata": {},
   "outputs": [
    {
     "data": {
      "text/plain": [
       "array([[ 1.08502328e-01,  1.80715140e-01,  5.23096244e-01,\n",
       "         1.05541274e+00, -4.29281808e-01, -5.38805723e-01,\n",
       "        -7.80681293e-01, -7.56406323e-01,  5.21804668e-01],\n",
       "       [ 2.40630528e+00,  1.98438577e+00,  1.32019516e+00,\n",
       "         1.28464265e+00, -1.47188596e+00, -7.33574170e-01,\n",
       "        -1.40197826e+00, -6.68425227e-01, -8.57183702e-01],\n",
       "       [-7.90322801e-01, -1.13342509e+00, -1.27037668e+00,\n",
       "        -1.00765651e+00, -1.27369371e-01,  5.17822174e+00,\n",
       "        -2.08708641e+00, -7.56406323e-01, -1.84993379e+00],\n",
       "       [-5.64581006e-01, -4.12654904e-01, -2.74002674e-01,\n",
       "        -9.07368417e-02,  4.90544879e-01, -3.18259087e-01,\n",
       "         2.21327218e-01, -7.04087705e-02,  7.83822446e-01],\n",
       "       [-6.29818314e-01, -6.35605024e-01, -7.47280632e-02,\n",
       "        -9.07368417e-02,  7.52202169e-01, -4.12779054e-01,\n",
       "        -1.65420498e-01, -2.32344990e-01,  1.36865133e+00],\n",
       "       [ 5.20636431e-01,  1.67189899e-01,  9.21645940e-01,\n",
       "         8.26182822e-01, -1.48396254e+00, -6.24733006e-01,\n",
       "        -1.43086568e+00, -1.37988480e-01, -1.50483205e+00],\n",
       "       [ 5.63092456e-01,  1.01099711e+00,  1.32019516e+00,\n",
       "         1.05541274e+00, -7.21130458e-01, -5.87497826e-01,\n",
       "        -4.84045358e-01, -7.56406323e-01,  3.03438038e+00],\n",
       "       [-4.47535697e-02,  6.59678687e-02,  6.22733549e-01,\n",
       "         1.05541274e+00, -9.50583786e-01, -8.82514753e-01,\n",
       "         3.38601924e-01, -4.14682634e-01, -5.85438896e-01],\n",
       "       [-1.51411390e-01,  3.08551509e-01,  6.22733549e-01,\n",
       "         5.96952906e-01,  1.40030778e+00, -1.47827709e+00,\n",
       "         2.04943048e-01, -5.75343782e-01, -6.15835407e-01],\n",
       "       [ 8.88275842e-02, -6.57952203e-02, -7.47280632e-02,\n",
       "         5.96952906e-01, -4.73562161e-01, -1.29496563e+00,\n",
       "         2.13781913e+00, -7.56406323e-01, -4.79659013e-01],\n",
       "       [-9.12513314e-01, -9.71120900e-01, -1.27037668e+00,\n",
       "        -1.23688642e+00,  1.20909641e+00,  8.87586878e-01,\n",
       "         2.32537228e+00,  1.36024040e+00,  2.47222791e-01],\n",
       "       [ 4.70931815e-01,  8.65708611e-01,  1.32019516e+00,\n",
       "         8.26182822e-01,  4.30162160e-01, -4.70063910e-01,\n",
       "        -1.13638567e+00, -7.23254027e-01, -1.15588012e+00],\n",
       "       [-5.27302544e-01, -7.91364666e-01, -8.71827456e-01,\n",
       "        -1.00765651e+00, -5.69230598e-02,  6.41262020e-01,\n",
       "         1.48806582e+00,  1.46479761e+00,  1.22799751e-01],\n",
       "       [ 1.05395789e-01,  3.01570691e-01,  7.22371330e-01,\n",
       "         1.05541274e+00, -1.72549245e+00, -8.25229898e-01,\n",
       "        -1.31574689e+00, -7.56406323e-01, -3.56249252e-01],\n",
       "       [ 2.06458605e+00,  1.57818913e+00,  1.51947072e+00,\n",
       "         8.26182822e-01,  1.28249724e-01, -9.02564429e-01,\n",
       "        -1.29634403e-01,  1.18304310e-01, -4.91007148e-01],\n",
       "       [ 7.61910918e-01,  1.06107615e-01,  1.12092055e+00,\n",
       "         3.67722990e-01,  7.05909021e-01,  1.80119056e-01,\n",
       "         2.50645895e-01, -4.78437052e-01, -7.11077901e-01],\n",
       "       [-6.60883698e-01, -6.68327641e-01, -6.72552371e-01,\n",
       "        -7.78426590e-01,  3.79843421e-01,  8.27348242e-02,\n",
       "         2.86000689e-02,  9.84089241e-01,  5.42676915e-01],\n",
       "       [-7.34405109e-01, -5.77140610e-01, -2.74002674e-01,\n",
       "        -3.19966758e-01, -9.68698563e-01,  5.35285062e-01,\n",
       "        -4.28857338e-01,  5.71000656e-02, -4.21905672e-01],\n",
       "       [-6.31889339e-01, -8.80806492e-01, -9.71464761e-01,\n",
       "        -1.00765651e+00,  3.31537477e-01,  1.88711774e-01,\n",
       "         1.35440728e+00,  1.62163342e+00,  9.61338269e-01],\n",
       "       [ 6.91528406e-02,  9.17097502e-02,  3.23821633e-01,\n",
       "         8.26182822e-01, -7.35219644e-01, -5.50262680e-01,\n",
       "        -3.98245244e-01, -7.56406323e-01,  1.22394531e-01],\n",
       "       [-9.54613382e-03, -4.87794030e-02,  3.23821633e-01,\n",
       "         3.67722990e-01, -6.64773524e-01, -4.70063910e-01,\n",
       "        -1.47311991e-01, -7.56406323e-01,  5.14712179e-01],\n",
       "       [-4.76562416e-01, -6.22952240e-01, -7.72189675e-01,\n",
       "        -7.78426590e-01,  7.03896225e-01,  5.69566402e-02,\n",
       "         4.75709805e-01,  1.31178691e+00,  1.92105746e+00],\n",
       "       [-5.02450237e-01, -6.70072845e-01, -5.72915065e-01,\n",
       "        -7.78426590e-01,  1.17890525e+00,  2.37403895e-01,\n",
       "         3.56710432e-01,  1.84987435e+00, -8.04496447e-01],\n",
       "       [-7.30263057e-01, -5.78449545e-01, -6.72552371e-01,\n",
       "        -7.78426590e-01,  8.59821681e-02,  4.26354306e-02,\n",
       "         1.27162524e+00, -3.03749961e-01, -7.03193919e-02],\n",
       "       [-9.95354340e-01, -1.28351283e+00, -1.07110207e+00,\n",
       "        -1.46611634e+00,  1.70423262e+00,  3.15606671e+00,\n",
       "         1.46090306e+00, -6.77350844e-01,  1.73865975e-01],\n",
       "       [ 1.30555515e+00,  2.36527717e+00,  1.71874533e+00,\n",
       "         1.74310249e+00,  8.59821681e-02, -7.36438409e-01,\n",
       "        -1.73310670e+00, -7.56406323e-01,  1.18525929e+00],\n",
       "       [ 3.49776815e-01,  1.01308271e-01,  5.23096244e-01,\n",
       "         3.67722990e-01, -2.30019455e-01, -3.49765720e-01,\n",
       "         4.06724071e-02, -5.17964799e-01, -3.75703000e-01],\n",
       "       [-8.26565750e-01, -8.13616055e-01, -7.72189675e-01,\n",
       "        -7.78426590e-01, -4.13179827e-01,  5.41013540e-01,\n",
       "         6.52483322e-02, -1.49464234e-01,  4.26764862e-01],\n",
       "       [-3.29519596e-01, -2.80891815e-01,  2.49092425e-02,\n",
       "        -9.07368417e-02,  6.18290041e-02, -4.09914815e-01,\n",
       "        -3.47799811e-01, -3.99381588e-01,  7.23434798e-01],\n",
       "       [-9.52898314e-01, -1.11291893e+00, -1.56928907e+00,\n",
       "        -1.46611634e+00,  9.25298755e-01,  2.01323404e+00,\n",
       "         1.12416969e+00,  1.73001598e+00, -1.42296413e+00],\n",
       "       [-1.07301780e+00, -9.13529109e-01, -1.17073937e+00,\n",
       "        -1.46611634e+00,  4.20098565e-01,  5.06642634e-01,\n",
       "         2.14859805e+00, -7.32179645e-01,  7.35573970e-02],\n",
       "       [ 2.74181143e+00,  2.32164701e+00,  1.51947072e+00,\n",
       "         1.51387257e+00, -1.50006452e+00, -2.49517257e-01,\n",
       "        -1.52356447e+00, -7.56406323e-01, -3.53614789e-01],\n",
       "       [-1.02538421e+00, -1.11859083e+00, -1.66892637e+00,\n",
       "        -1.46611634e+00,  7.28049389e-01,  2.41422796e+00,\n",
       "         1.22290432e+00, -3.40727519e-01, -1.09488441e+00],\n",
       "       [ 3.70519431e-02,  1.38830231e-01,  5.23096244e-01,\n",
       "         8.26182822e-01,  3.21473882e-01, -4.50014200e-01,\n",
       "         1.65707949e-01,  2.52228566e-02, -2.09535468e-01],\n",
       "       [ 1.47227271e+00,  2.30463128e+00,  1.71874533e+00,\n",
       "         1.51387257e+00, -1.14783335e+00, -1.10019715e+00,\n",
       "         2.35124223e-01, -7.07952966e-01, -2.10751279e-01],\n",
       "       [-1.07923088e+00, -9.08293495e-01, -1.37001446e+00,\n",
       "        -1.46611634e+00,  5.28787227e-01,  5.78248686e-01,\n",
       "         7.01204635e-01, -2.09393421e-01,  1.02902109e+00],\n",
       "       [-6.98162160e-01, -7.87874256e-01, -6.72552371e-01,\n",
       "        -7.78426590e-01,  2.00708831e-01,  2.83231759e-01,\n",
       "         5.11064650e-01, -3.44552780e-01,  5.37813516e-01],\n",
       "       [ 5.05136098e-02, -2.62130919e-01,  2.49092425e-02,\n",
       "        -9.07368417e-02, -6.78862708e-01, -6.33415282e-02,\n",
       "         2.96348411e-01,  5.40358550e-01,  1.02983153e+00],\n",
       "       [-2.43572031e-01, -5.98519376e-01, -2.74002674e-01,\n",
       "        -3.19966758e-01, -6.69868459e-02,  1.71526321e-01,\n",
       "        -3.05977547e-01, -4.19782983e-01,  3.05381503e-01],\n",
       "       [-1.75749178e+00, -7.14671038e-02,  2.49092425e-02,\n",
       "         3.67722990e-01,  1.54415684e-01, -8.39551163e-01,\n",
       "        -8.66481407e-01, -5.05213913e-01, -8.90214599e-01],\n",
       "       [ 2.77290918e-01,  1.04362369e-01, -7.47280632e-02,\n",
       "        -3.19966758e-01, -1.04115767e+00, -1.16893896e+00,\n",
       "         5.45988247e-01,  2.65190481e+00, -9.15139729e-01],\n",
       "       [-8.04819981e-01, -8.98694849e-01, -8.71827456e-01,\n",
       "        -1.00765651e+00,  6.59615873e-01,  1.18546798e+00,\n",
       "         5.77893759e-01,  3.54235538e-02, -1.18384493e+00],\n",
       "       [-9.77750622e-01, -1.05838123e+00, -1.66892637e+00,\n",
       "        -1.46611634e+00,  9.89706681e-01,  1.25420986e+00,\n",
       "         1.99467508e+00,  1.25185785e+00, -8.23950195e-01],\n",
       "       [-9.97425365e-01, -9.27490745e-01, -1.46965176e+00,\n",
       "        -1.46611634e+00,  2.28887203e-01,  8.64672895e-01,\n",
       "         1.97613462e-01,  8.62955871e-01,  1.04057191e+00],\n",
       "       [ 2.54920605e+00,  3.23962552e+00,  1.61910755e+00,\n",
       "         1.97233240e+00, -1.91871642e+00, -8.28094137e-01,\n",
       "        -2.08406833e+00, -7.56406323e-01,  9.41681832e-01],\n",
       "       [-6.54670621e-01, -8.11434539e-01, -8.71827456e-01,\n",
       "        -1.00765651e+00,  8.02520908e-01,  5.00914155e-01,\n",
       "         1.47340665e+00,  1.92255435e+00, -1.91905436e-01],\n",
       "       [-8.08962032e-01, -7.94855075e-01, -2.74002674e-01,\n",
       "        -1.00765651e+00,  3.47639458e-01, -3.28200454e-04,\n",
       "         4.41217406e-02, -7.56406323e-01, -5.29914646e-01],\n",
       "       [ 6.27294251e-01,  7.69722236e-01,  1.32019516e+00,\n",
       "         1.74310249e+00, -9.36494602e-01, -6.39054203e-01,\n",
       "        -1.18683093e+00, -7.56406323e-01, -7.47756308e-01],\n",
       "       [ 2.58651687e-01,  8.15533866e-01,  1.22055833e+00,\n",
       "         8.26182822e-01, -1.12569317e+00, -9.68442002e-01,\n",
       "        -8.10431054e-01, -7.56406323e-01,  1.50077492e+00],\n",
       "       [ 4.24333738e-01, -3.87785729e-01,  2.49092425e-02,\n",
       "        -9.07368417e-02, -5.37970278e-01, -4.29964525e-01,\n",
       "         8.12011923e-01, -8.82600513e-02,  6.78042871e-01],\n",
       "       [ 1.26106046e-01, -2.30280842e-01,  5.23096244e-01,\n",
       "         1.38493074e-01, -2.32032251e-01, -1.26354854e-01,\n",
       "        -8.46217149e-01, -7.02852614e-01, -4.46222974e-01],\n",
       "       [-8.99051647e-01, -1.30314639e+00, -2.26675068e+00,\n",
       "        -1.69534625e+00,  5.68746422e+00,  1.23702442e+00,\n",
       "        -2.27507184e-01, -7.56406323e-01, -2.01610137e+00],\n",
       "       [ 6.31436303e-01,  8.54364844e-01,  1.12092055e+00,\n",
       "         1.51387257e+00,  3.36506328e-02, -6.93474819e-01,\n",
       "         1.22162285e-02, -7.56406323e-01, -3.43482618e-01],\n",
       "       [ 3.40661066e+00,  3.12095144e+00,  3.23821633e-01,\n",
       "         1.38493074e-01, -7.33206848e-01, -2.26603325e-01,\n",
       "         3.58435098e-01,  1.06697006e+00, -1.33825918e+00],\n",
       "       [-9.89141263e-01, -1.13298878e+00, -1.86820146e+00,\n",
       "        -1.46611634e+00, -3.22605943e-01,  2.34262191e+00,\n",
       "         1.90283880e+00,  9.28025057e-02, -1.91457703e+00],\n",
       "       [-2.29074852e-01,  4.52530988e-01,  5.23096244e-01,\n",
       "         1.05541274e+00,  1.19702002e+00, -1.79907217e+00,\n",
       "         1.24489340e+00, -7.56406323e-01, -9.45130943e-01],\n",
       "       [-6.06001519e-01, -7.10648903e-01, -9.71464761e-01,\n",
       "        -1.00765651e+00,  5.47226158e-03,  1.34291175e-01,\n",
       "        -9.38483088e-02, -1.34163189e-01, -1.28476134e+00],\n",
       "       [-7.30263057e-01, -9.59340780e-01, -1.27037668e+00,\n",
       "        -1.23688642e+00, -1.05229003e-01,  1.39742196e+00,\n",
       "        -4.95255527e-01,  2.62640319e+00, -8.38743155e-01],\n",
       "       [ 4.11939944e-02, -1.46510941e-01,  3.23821633e-01,\n",
       "         5.96952906e-01,  2.55998338e-02, -2.78159685e-01,\n",
       "        -3.61165732e-01, -5.67693244e-01,  2.53099468e-01],\n",
       "       [ 1.65659400e+00,  1.34345884e+00,  1.61910755e+00,\n",
       "         1.51387257e+00, -1.36118488e+00, -2.83888164e-01,\n",
       "        -1.79088172e+00, -7.56406323e-01,  1.42295992e+00],\n",
       "       [-8.80412416e-01, -9.03057881e-01, -1.27037668e+00,\n",
       "        -1.00765651e+00,  1.11047173e+00,  1.26566682e+00,\n",
       "         4.26988874e-01, -2.03017955e-01, -1.53522856e+00],\n",
       "       [ 1.92064976e+00,  2.18639326e+00,  1.22055833e+00,\n",
       "         1.74310249e+00, -6.46658747e-01, -7.07796016e-01,\n",
       "        -1.15880584e+00, -7.56406323e-01, -2.62020036e-01],\n",
       "       [-4.54816647e-01, -4.01747366e-01, -7.47280632e-02,\n",
       "        -3.19966758e-01,  2.49014775e-01, -4.04275897e-02,\n",
       "        -1.56797493e-01, -1.40538655e-01, -2.27570719e-01],\n",
       "       [-6.13250109e-01, -4.44504898e-01, -1.74365369e-01,\n",
       "        -3.19966758e-01, -7.45283430e-01, -2.49517257e-01,\n",
       "        -3.87897408e-01, -3.38177345e-01,  1.09488020e+00],\n",
       "       [-5.80113698e-01, -7.73912620e-01, -6.72552371e-01,\n",
       "        -1.00765651e+00, -2.64236212e-01,  2.80367519e-01,\n",
       "        -6.35381492e-01,  5.48009012e-01, -6.21104179e-01],\n",
       "       [ 7.84692200e-01,  8.22951079e-01,  1.51947072e+00,\n",
       "         1.05541274e+00,  6.81755857e-01, -8.68193557e-01,\n",
       "         2.86000689e-02, -7.56406323e-01,  2.35228260e+00],\n",
       "       [-1.73160396e+00, -2.76528867e-01, -2.74002674e-01,\n",
       "        -5.49196674e-01,  5.44889208e-01, -2.00825154e-01,\n",
       "        -1.15406150e-01,  1.75169249e+00,  5.34957422e-02],\n",
       "       [-2.57033698e-01, -4.96424806e-01, -2.74002674e-01,\n",
       "        -3.19966758e-01, -5.98352611e-01,  1.40019654e-01,\n",
       "         4.78296640e-01,  1.83712342e+00,  1.07117096e+00],\n",
       "       [ 9.51409764e-01,  1.16283003e+00,  1.12092055e+00,\n",
       "         1.28464265e+00,  3.11410289e-01, -7.13524495e-01,\n",
       "        -2.92611627e-01, -7.56406323e-01,  1.91639644e+00],\n",
       "       [ 4.89571046e-01,  5.11431797e-01,  1.22055833e+00,\n",
       "         1.05541274e+00, -1.72549245e+00, -2.52381497e-01,\n",
       "        -1.03549496e+00, -6.42923461e-01,  9.94957267e-02],\n",
       "       [ 2.11429066e+00,  2.11265853e+00,  2.11729455e+00,\n",
       "         1.51387257e+00, -1.71945425e+00, -1.03431958e+00,\n",
       "        -3.73238069e-01, -7.56406323e-01, -1.20532508e+00],\n",
       "       [-4.48603570e-01, -3.53317950e-01, -7.47280632e-02,\n",
       "         1.38493074e-01,  6.97857837e-01, -2.95345138e-01,\n",
       "        -8.10431054e-01, -5.84269392e-01,  9.37021121e-01],\n",
       "       [-6.49493057e-01, -8.03581097e-01, -5.72915065e-01,\n",
       "        -7.78426590e-01,  1.98696036e-01,  3.34788135e-01,\n",
       "         2.79964571e-01,  8.29803544e-01,  4.72157096e-01],\n",
       "       [-8.62808699e-01, -6.78798868e-01, -6.72552371e-01,\n",
       "        -7.78426590e-01,  1.27954273e+00,  2.54499772e-02,\n",
       "         4.62343720e-01, -4.10817356e-02,  7.77135485e-01],\n",
       "       [-9.67395493e-01, -9.00440054e-01, -1.07110207e+00,\n",
       "        -1.00765651e+00,  6.89807040e-01,  6.95682636e-01,\n",
       "         8.40468431e-01,  1.08103612e-01, -4.64866130e-01],\n",
       "       [-7.96535878e-01, -7.32463981e-01, -9.71464761e-01,\n",
       "        -7.78426590e-01,  5.60991190e-01, -7.19342505e-02,\n",
       "         4.34749710e-01,  4.30700994e-01,  1.80291631e+00],\n",
       "       [ 9.58658354e-01,  8.19896982e-01,  1.22055833e+00,\n",
       "         1.28464265e+00, -1.01700470e+00, -4.21371773e-01,\n",
       "        -1.06179556e+00, -6.13596426e-01,  6.58386436e-01],\n",
       "       [-5.07627801e-01,  2.44415294e-01,  2.49092425e-02,\n",
       "         3.67722990e-01,  7.28049389e-01, -1.38662143e+00,\n",
       "         2.42669439e+00, -7.56406323e-01,  2.73547245e-02],\n",
       "       [ 1.35425661e-01,  2.54013815e-01,  9.21645940e-01,\n",
       "         5.96952906e-01, -1.83820641e+00, -6.82017793e-01,\n",
       "        -7.18595479e-02, -5.89369755e-01, -1.42073504e+00],\n",
       "       [ 1.62348995e-01,  7.48779782e-01,  1.12092055e+00,\n",
       "         1.51387257e+00,  4.44251729e-01, -3.23987566e-01,\n",
       "        -1.18165710e+00, -7.56406323e-01, -1.08618983e-01],\n",
       "       [-1.14132929e-01, -5.92847492e-01, -4.73277759e-01,\n",
       "        -5.49196674e-01,  2.63103962e-01,  7.78745646e-01,\n",
       "        -6.31501074e-01, -4.77161965e-01, -1.50787169e+00],\n",
       "       [ 5.43417713e-01,  1.22250726e-01,  9.21645940e-01,\n",
       "         8.26182822e-01, -5.70174239e-01, -5.38805723e-01,\n",
       "        -1.47743070e+00, -7.56406323e-01,  2.72147997e-01],\n",
       "       [ 1.55407823e+00,  9.40316137e-01, -5.72915065e-01,\n",
       "        -1.00765651e+00, -1.86809024e-02,  1.40028613e+00,\n",
       "         1.44063864e+00,  5.06947222e+00, -9.58302796e-01],\n",
       "       [-1.05334306e+00, -8.92150343e-01, -1.27037668e+00,\n",
       "        -1.23688642e+00,  1.07021659e+00,  6.26940823e-01,\n",
       "         6.34806446e-01,  9.79028543e-02,  8.76228099e-01],\n",
       "       [ 1.74775148e-01, -3.74355526e-02,  2.49092425e-02,\n",
       "         3.67722990e-01,  5.47226158e-03, -4.04186337e-01,\n",
       "        -9.71683775e-01, -6.44198548e-01,  4.79654803e-01],\n",
       "       [ 3.58060918e-01,  2.26788217e-03,  3.23821633e-01,\n",
       "         5.96952906e-01, -3.91039459e-01, -8.08044462e-01,\n",
       "        -9.04854502e-01, -7.56406323e-01, -4.51491591e-01],\n",
       "       [-7.64434980e-01, -8.09253022e-01, -9.71464761e-01,\n",
       "        -1.00765651e+00,  7.05909021e-01,  4.86592958e-01,\n",
       "         6.48172531e-01,  5.84986691e-01,  8.80686278e-01],\n",
       "       [ 1.08913297e+00,  6.06981777e-01,  6.22733549e-01,\n",
       "         5.96952906e-01,  4.56328120e-01, -8.33912208e-02,\n",
       "        -6.04769233e-01,  6.76792965e-01, -1.27807407e+00],\n",
       "       [-4.53781134e-01, -5.25657013e-01, -4.73277759e-01,\n",
       "        -3.19966758e-01, -4.27269012e-01, -4.67199671e-01,\n",
       "        -3.41332557e-01,  2.12660819e-01, -7.94382834e-02],\n",
       "       [ 1.50748015e+00,  1.44249932e+00,  1.51947072e+00,\n",
       "         1.51387257e+00, -1.31891714e+00, -3.92729379e-01,\n",
       "        -1.63437175e+00, -6.45473635e-01,  9.02774337e-01],\n",
       "       [-3.37803698e-01, -1.95376751e-01,  3.23821633e-01,\n",
       "         3.67722990e-01,  6.31437118e-01, -5.35941484e-01,\n",
       "        -5.32766124e-01, -7.56406323e-01,  2.39927614e-01],\n",
       "       [-4.67242801e-01, -4.67628910e-01, -2.74002674e-01,\n",
       "        -9.07368417e-02, -1.13279994e-01, -4.15643294e-01,\n",
       "         2.97210910e-01, -4.38909320e-01,  1.80494256e+00],\n",
       "       [-1.04813313e-01,  6.98946726e-02,  1.24546547e-01,\n",
       "         5.96952906e-01, -3.28644329e-01, -7.42166888e-01,\n",
       "        -1.97326010e-01,  1.90984307e-01,  3.20155897e-02],\n",
       "       [ 1.15333476e+00,  4.76963935e-01,  3.23821633e-01,\n",
       "        -9.07368417e-02,  1.54415684e-01, -2.69566950e-01,\n",
       "         1.54929029e-01,  1.14730064e+00, -4.00020147e-01],\n",
       "       [ 1.97556430e-01, -3.04015828e-01, -2.74002674e-01,\n",
       "        -3.19966758e-01, -3.40720720e-01,  1.91576014e-01,\n",
       "        -3.76687403e-01,  3.33794250e-01, -5.45923493e-01],\n",
       "       [-1.11961588e+00, -9.59340780e-01, -1.66892637e+00,\n",
       "        -1.46611634e+00,  5.34825231e-01,  7.98795322e-01,\n",
       "         1.38976212e+00, -2.66772404e-01,  8.33875392e-01]])"
      ]
     },
     "execution_count": 15,
     "metadata": {},
     "output_type": "execute_result"
    }
   ],
   "source": [
    "#instancio o StandardScaler e faço \n",
    "# a transformação com fit\n",
    "padronizar= StandardScaler()\n",
    "variaveis_numericas = padronizar.fit_transform(variaveL_numerica)\n",
    "variaveis_numericas"
   ]
  },
  {
   "cell_type": "code",
   "execution_count": 16,
   "id": "f7687dd6",
   "metadata": {},
   "outputs": [
    {
     "data": {
      "text/html": [
       "<div>\n",
       "<style scoped>\n",
       "    .dataframe tbody tr th:only-of-type {\n",
       "        vertical-align: middle;\n",
       "    }\n",
       "\n",
       "    .dataframe tbody tr th {\n",
       "        vertical-align: top;\n",
       "    }\n",
       "\n",
       "    .dataframe thead th {\n",
       "        text-align: right;\n",
       "    }\n",
       "</style>\n",
       "<table border=\"1\" class=\"dataframe\">\n",
       "  <thead>\n",
       "    <tr style=\"text-align: right;\">\n",
       "      <th></th>\n",
       "      <th>renda</th>\n",
       "      <th>quota</th>\n",
       "      <th>escolaridade</th>\n",
       "      <th>idade</th>\n",
       "      <th>mortalidade</th>\n",
       "      <th>txcresc</th>\n",
       "      <th>causasext</th>\n",
       "      <th>favel</th>\n",
       "      <th>denspop</th>\n",
       "    </tr>\n",
       "  </thead>\n",
       "  <tbody>\n",
       "    <tr>\n",
       "      <th>0</th>\n",
       "      <td>0.108502</td>\n",
       "      <td>0.180715</td>\n",
       "      <td>0.523096</td>\n",
       "      <td>1.055413</td>\n",
       "      <td>-0.429282</td>\n",
       "      <td>-0.538806</td>\n",
       "      <td>-0.780681</td>\n",
       "      <td>-0.756406</td>\n",
       "      <td>0.521805</td>\n",
       "    </tr>\n",
       "    <tr>\n",
       "      <th>1</th>\n",
       "      <td>2.406305</td>\n",
       "      <td>1.984386</td>\n",
       "      <td>1.320195</td>\n",
       "      <td>1.284643</td>\n",
       "      <td>-1.471886</td>\n",
       "      <td>-0.733574</td>\n",
       "      <td>-1.401978</td>\n",
       "      <td>-0.668425</td>\n",
       "      <td>-0.857184</td>\n",
       "    </tr>\n",
       "    <tr>\n",
       "      <th>2</th>\n",
       "      <td>-0.790323</td>\n",
       "      <td>-1.133425</td>\n",
       "      <td>-1.270377</td>\n",
       "      <td>-1.007657</td>\n",
       "      <td>-0.127369</td>\n",
       "      <td>5.178222</td>\n",
       "      <td>-2.087086</td>\n",
       "      <td>-0.756406</td>\n",
       "      <td>-1.849934</td>\n",
       "    </tr>\n",
       "    <tr>\n",
       "      <th>3</th>\n",
       "      <td>-0.564581</td>\n",
       "      <td>-0.412655</td>\n",
       "      <td>-0.274003</td>\n",
       "      <td>-0.090737</td>\n",
       "      <td>0.490545</td>\n",
       "      <td>-0.318259</td>\n",
       "      <td>0.221327</td>\n",
       "      <td>-0.070409</td>\n",
       "      <td>0.783822</td>\n",
       "    </tr>\n",
       "    <tr>\n",
       "      <th>4</th>\n",
       "      <td>-0.629818</td>\n",
       "      <td>-0.635605</td>\n",
       "      <td>-0.074728</td>\n",
       "      <td>-0.090737</td>\n",
       "      <td>0.752202</td>\n",
       "      <td>-0.412779</td>\n",
       "      <td>-0.165420</td>\n",
       "      <td>-0.232345</td>\n",
       "      <td>1.368651</td>\n",
       "    </tr>\n",
       "    <tr>\n",
       "      <th>...</th>\n",
       "      <td>...</td>\n",
       "      <td>...</td>\n",
       "      <td>...</td>\n",
       "      <td>...</td>\n",
       "      <td>...</td>\n",
       "      <td>...</td>\n",
       "      <td>...</td>\n",
       "      <td>...</td>\n",
       "      <td>...</td>\n",
       "    </tr>\n",
       "    <tr>\n",
       "      <th>91</th>\n",
       "      <td>-0.467243</td>\n",
       "      <td>-0.467629</td>\n",
       "      <td>-0.274003</td>\n",
       "      <td>-0.090737</td>\n",
       "      <td>-0.113280</td>\n",
       "      <td>-0.415643</td>\n",
       "      <td>0.297211</td>\n",
       "      <td>-0.438909</td>\n",
       "      <td>1.804943</td>\n",
       "    </tr>\n",
       "    <tr>\n",
       "      <th>92</th>\n",
       "      <td>-0.104813</td>\n",
       "      <td>0.069895</td>\n",
       "      <td>0.124547</td>\n",
       "      <td>0.596953</td>\n",
       "      <td>-0.328644</td>\n",
       "      <td>-0.742167</td>\n",
       "      <td>-0.197326</td>\n",
       "      <td>0.190984</td>\n",
       "      <td>0.032016</td>\n",
       "    </tr>\n",
       "    <tr>\n",
       "      <th>93</th>\n",
       "      <td>1.153335</td>\n",
       "      <td>0.476964</td>\n",
       "      <td>0.323822</td>\n",
       "      <td>-0.090737</td>\n",
       "      <td>0.154416</td>\n",
       "      <td>-0.269567</td>\n",
       "      <td>0.154929</td>\n",
       "      <td>1.147301</td>\n",
       "      <td>-0.400020</td>\n",
       "    </tr>\n",
       "    <tr>\n",
       "      <th>94</th>\n",
       "      <td>0.197556</td>\n",
       "      <td>-0.304016</td>\n",
       "      <td>-0.274003</td>\n",
       "      <td>-0.319967</td>\n",
       "      <td>-0.340721</td>\n",
       "      <td>0.191576</td>\n",
       "      <td>-0.376687</td>\n",
       "      <td>0.333794</td>\n",
       "      <td>-0.545923</td>\n",
       "    </tr>\n",
       "    <tr>\n",
       "      <th>95</th>\n",
       "      <td>-1.119616</td>\n",
       "      <td>-0.959341</td>\n",
       "      <td>-1.668926</td>\n",
       "      <td>-1.466116</td>\n",
       "      <td>0.534825</td>\n",
       "      <td>0.798795</td>\n",
       "      <td>1.389762</td>\n",
       "      <td>-0.266772</td>\n",
       "      <td>0.833875</td>\n",
       "    </tr>\n",
       "  </tbody>\n",
       "</table>\n",
       "<p>96 rows × 9 columns</p>\n",
       "</div>"
      ],
      "text/plain": [
       "       renda     quota  escolaridade     idade  mortalidade   txcresc  \\\n",
       "0   0.108502  0.180715      0.523096  1.055413    -0.429282 -0.538806   \n",
       "1   2.406305  1.984386      1.320195  1.284643    -1.471886 -0.733574   \n",
       "2  -0.790323 -1.133425     -1.270377 -1.007657    -0.127369  5.178222   \n",
       "3  -0.564581 -0.412655     -0.274003 -0.090737     0.490545 -0.318259   \n",
       "4  -0.629818 -0.635605     -0.074728 -0.090737     0.752202 -0.412779   \n",
       "..       ...       ...           ...       ...          ...       ...   \n",
       "91 -0.467243 -0.467629     -0.274003 -0.090737    -0.113280 -0.415643   \n",
       "92 -0.104813  0.069895      0.124547  0.596953    -0.328644 -0.742167   \n",
       "93  1.153335  0.476964      0.323822 -0.090737     0.154416 -0.269567   \n",
       "94  0.197556 -0.304016     -0.274003 -0.319967    -0.340721  0.191576   \n",
       "95 -1.119616 -0.959341     -1.668926 -1.466116     0.534825  0.798795   \n",
       "\n",
       "    causasext     favel   denspop  \n",
       "0   -0.780681 -0.756406  0.521805  \n",
       "1   -1.401978 -0.668425 -0.857184  \n",
       "2   -2.087086 -0.756406 -1.849934  \n",
       "3    0.221327 -0.070409  0.783822  \n",
       "4   -0.165420 -0.232345  1.368651  \n",
       "..        ...       ...       ...  \n",
       "91   0.297211 -0.438909  1.804943  \n",
       "92  -0.197326  0.190984  0.032016  \n",
       "93   0.154929  1.147301 -0.400020  \n",
       "94  -0.376687  0.333794 -0.545923  \n",
       "95   1.389762 -0.266772  0.833875  \n",
       "\n",
       "[96 rows x 9 columns]"
      ]
     },
     "execution_count": 16,
     "metadata": {},
     "output_type": "execute_result"
    }
   ],
   "source": [
    "#pra visualizar melhor vou incluir em outr variavel\n",
    "#junto com com as columas que eu separei acima\n",
    "\n",
    "dados_padronizados = pd.DataFrame(variaveis_numericas,columns= colunas_numericas)\n",
    "dados_padronizados "
   ]
  },
  {
   "cell_type": "code",
   "execution_count": 17,
   "id": "bfe818e1",
   "metadata": {},
   "outputs": [],
   "source": [
    "from sklearn.decomposition import PCA"
   ]
  },
  {
   "cell_type": "code",
   "execution_count": 18,
   "id": "0210d9e4",
   "metadata": {},
   "outputs": [],
   "source": [
    "# para eu executar esse método e transformar os dados, eu vou precisar passar uma quantidade de fatores que eu quero criar com o PCA\n",
    "# E a quantidade de fatores que eu vou criar, vai ser igual a quantidade de variáveis, \n",
    "#eu vou primeiro construir todos os fatores possíveis, que é um número máximo de variáveis que eu tenho no conjunto de dados."
   ]
  },
  {
   "cell_type": "code",
   "execution_count": 19,
   "id": "f87cb5e2",
   "metadata": {},
   "outputs": [
    {
     "data": {
      "text/plain": [
       "9"
      ]
     },
     "execution_count": 19,
     "metadata": {},
     "output_type": "execute_result"
    }
   ],
   "source": [
    "# valor maximo é 9\n",
    "n_fatores = dados_padronizados.shape[1]\n",
    "n_fatores "
   ]
  },
  {
   "cell_type": "code",
   "execution_count": 20,
   "id": "91b9335a",
   "metadata": {
    "collapsed": true
   },
   "outputs": [
    {
     "data": {
      "text/html": [
       "<style>#sk-container-id-1 {color: black;background-color: white;}#sk-container-id-1 pre{padding: 0;}#sk-container-id-1 div.sk-toggleable {background-color: white;}#sk-container-id-1 label.sk-toggleable__label {cursor: pointer;display: block;width: 100%;margin-bottom: 0;padding: 0.3em;box-sizing: border-box;text-align: center;}#sk-container-id-1 label.sk-toggleable__label-arrow:before {content: \"▸\";float: left;margin-right: 0.25em;color: #696969;}#sk-container-id-1 label.sk-toggleable__label-arrow:hover:before {color: black;}#sk-container-id-1 div.sk-estimator:hover label.sk-toggleable__label-arrow:before {color: black;}#sk-container-id-1 div.sk-toggleable__content {max-height: 0;max-width: 0;overflow: hidden;text-align: left;background-color: #f0f8ff;}#sk-container-id-1 div.sk-toggleable__content pre {margin: 0.2em;color: black;border-radius: 0.25em;background-color: #f0f8ff;}#sk-container-id-1 input.sk-toggleable__control:checked~div.sk-toggleable__content {max-height: 200px;max-width: 100%;overflow: auto;}#sk-container-id-1 input.sk-toggleable__control:checked~label.sk-toggleable__label-arrow:before {content: \"▾\";}#sk-container-id-1 div.sk-estimator input.sk-toggleable__control:checked~label.sk-toggleable__label {background-color: #d4ebff;}#sk-container-id-1 div.sk-label input.sk-toggleable__control:checked~label.sk-toggleable__label {background-color: #d4ebff;}#sk-container-id-1 input.sk-hidden--visually {border: 0;clip: rect(1px 1px 1px 1px);clip: rect(1px, 1px, 1px, 1px);height: 1px;margin: -1px;overflow: hidden;padding: 0;position: absolute;width: 1px;}#sk-container-id-1 div.sk-estimator {font-family: monospace;background-color: #f0f8ff;border: 1px dotted black;border-radius: 0.25em;box-sizing: border-box;margin-bottom: 0.5em;}#sk-container-id-1 div.sk-estimator:hover {background-color: #d4ebff;}#sk-container-id-1 div.sk-parallel-item::after {content: \"\";width: 100%;border-bottom: 1px solid gray;flex-grow: 1;}#sk-container-id-1 div.sk-label:hover label.sk-toggleable__label {background-color: #d4ebff;}#sk-container-id-1 div.sk-serial::before {content: \"\";position: absolute;border-left: 1px solid gray;box-sizing: border-box;top: 0;bottom: 0;left: 50%;z-index: 0;}#sk-container-id-1 div.sk-serial {display: flex;flex-direction: column;align-items: center;background-color: white;padding-right: 0.2em;padding-left: 0.2em;position: relative;}#sk-container-id-1 div.sk-item {position: relative;z-index: 1;}#sk-container-id-1 div.sk-parallel {display: flex;align-items: stretch;justify-content: center;background-color: white;position: relative;}#sk-container-id-1 div.sk-item::before, #sk-container-id-1 div.sk-parallel-item::before {content: \"\";position: absolute;border-left: 1px solid gray;box-sizing: border-box;top: 0;bottom: 0;left: 50%;z-index: -1;}#sk-container-id-1 div.sk-parallel-item {display: flex;flex-direction: column;z-index: 1;position: relative;background-color: white;}#sk-container-id-1 div.sk-parallel-item:first-child::after {align-self: flex-end;width: 50%;}#sk-container-id-1 div.sk-parallel-item:last-child::after {align-self: flex-start;width: 50%;}#sk-container-id-1 div.sk-parallel-item:only-child::after {width: 0;}#sk-container-id-1 div.sk-dashed-wrapped {border: 1px dashed gray;margin: 0 0.4em 0.5em 0.4em;box-sizing: border-box;padding-bottom: 0.4em;background-color: white;}#sk-container-id-1 div.sk-label label {font-family: monospace;font-weight: bold;display: inline-block;line-height: 1.2em;}#sk-container-id-1 div.sk-label-container {text-align: center;}#sk-container-id-1 div.sk-container {/* jupyter's `normalize.less` sets `[hidden] { display: none; }` but bootstrap.min.css set `[hidden] { display: none !important; }` so we also need the `!important` here to be able to override the default hidden behavior on the sphinx rendered scikit-learn.org. See: https://github.com/scikit-learn/scikit-learn/issues/21755 */display: inline-block !important;position: relative;}#sk-container-id-1 div.sk-text-repr-fallback {display: none;}</style><div id=\"sk-container-id-1\" class=\"sk-top-container\"><div class=\"sk-text-repr-fallback\"><pre>PCA(n_components=9)</pre><b>In a Jupyter environment, please rerun this cell to show the HTML representation or trust the notebook. <br />On GitHub, the HTML representation is unable to render, please try loading this page with nbviewer.org.</b></div><div class=\"sk-container\" hidden><div class=\"sk-item\"><div class=\"sk-estimator sk-toggleable\"><input class=\"sk-toggleable__control sk-hidden--visually\" id=\"sk-estimator-id-1\" type=\"checkbox\" checked><label for=\"sk-estimator-id-1\" class=\"sk-toggleable__label sk-toggleable__label-arrow\">PCA</label><div class=\"sk-toggleable__content\"><pre>PCA(n_components=9)</pre></div></div></div></div></div>"
      ],
      "text/plain": [
       "PCA(n_components=9)"
      ]
     },
     "execution_count": 20,
     "metadata": {},
     "output_type": "execute_result"
    }
   ],
   "source": [
    "pca= PCA(n_components = n_fatores)\n",
    "pca.fit(dados_padronizados)"
   ]
  },
  {
   "cell_type": "code",
   "execution_count": null,
   "id": "f4ed36e9",
   "metadata": {},
   "outputs": [],
   "source": []
  },
  {
   "cell_type": "markdown",
   "id": "1688ed76",
   "metadata": {},
   "source": [
    "## Variância explicada pelos fatores"
   ]
  },
  {
   "cell_type": "markdown",
   "id": "819ef296",
   "metadata": {},
   "source": [
    "Vou aplicar o pca.explained_variance_ratio_ porque consegue me dar uma porcentagem de varianca explicada or cada um dos valores gerados pelo PCA"
   ]
  },
  {
   "cell_type": "code",
   "execution_count": null,
   "id": "2c95d884",
   "metadata": {},
   "outputs": [],
   "source": []
  },
  {
   "cell_type": "code",
   "execution_count": 22,
   "id": "7b186ab2",
   "metadata": {},
   "outputs": [
    {
     "data": {
      "text/plain": [
       "array([0.55067008, 0.1293709 , 0.11070601, 0.08045185, 0.05881136,\n",
       "       0.04425824, 0.01440763, 0.00722961, 0.00409432])"
      ]
     },
     "execution_count": 22,
     "metadata": {},
     "output_type": "execute_result"
    }
   ],
   "source": [
    "#primeiro resultado esta trazendo 55% de explkicacao dos dados \n",
    "# segundo 0.12% assim por diante\n",
    "pca.explained_variance_ratio_"
   ]
  },
  {
   "cell_type": "code",
   "execution_count": 48,
   "id": "bb842e65",
   "metadata": {},
   "outputs": [
    {
     "data": {
      "text/plain": [
       "['F1', 'F2', 'F3', 'F4', 'F5', 'F6', 'F7', 'F8', 'F9']"
      ]
     },
     "execution_count": 48,
     "metadata": {},
     "output_type": "execute_result"
    }
   ],
   "source": [
    "# defino o nome dos fatores usando for para trazer de 1 a 9\n",
    "\n",
    "fatores = [f'F{i+1}' for i in range(n_fatores)]\n",
    "fatores"
   ]
  },
  {
   "cell_type": "markdown",
   "id": "c8cac489",
   "metadata": {},
   "source": [
    "### Visualizandos as variaveis"
   ]
  },
  {
   "cell_type": "code",
   "execution_count": 61,
   "id": "93da0c47",
   "metadata": {},
   "outputs": [],
   "source": [
    "import plotly.express as px\n",
    "import numpy as np "
   ]
  },
  {
   "cell_type": "code",
   "execution_count": 62,
   "id": "08aac2ac",
   "metadata": {},
   "outputs": [
    {
     "data": {
      "application/vnd.plotly.v1+json": {
       "config": {
        "plotlyServerURL": "https://plot.ly"
       },
       "data": [
        {
         "alignmentgroup": "True",
         "hovertemplate": "x=%{x}<br>y=%{y}<br>text=%{text}<extra></extra>",
         "legendgroup": "",
         "marker": {
          "color": "#636efa",
          "pattern": {
           "shape": ""
          }
         },
         "name": "",
         "offsetgroup": "",
         "orientation": "v",
         "showlegend": false,
         "text": [
          0.55,
          0.13,
          0.11,
          0.08,
          0.06,
          0.04,
          0.01,
          0.01,
          0
         ],
         "textposition": "auto",
         "type": "bar",
         "x": [
          "F1",
          "F2",
          "F3",
          "F4",
          "F5",
          "F6",
          "F7",
          "F8",
          "F9"
         ],
         "xaxis": "x",
         "y": [
          0.5506700772160412,
          0.129370904863402,
          0.1107060135057782,
          0.08045184763969226,
          0.05881135931905231,
          0.04425823886307444,
          0.014407633896292389,
          0.007229609523005746,
          0.004094315173661436
         ],
         "yaxis": "y"
        }
       ],
       "layout": {
        "barmode": "relative",
        "legend": {
         "tracegroupgap": 0
        },
        "template": {
         "data": {
          "bar": [
           {
            "error_x": {
             "color": "#2a3f5f"
            },
            "error_y": {
             "color": "#2a3f5f"
            },
            "marker": {
             "line": {
              "color": "#E5ECF6",
              "width": 0.5
             },
             "pattern": {
              "fillmode": "overlay",
              "size": 10,
              "solidity": 0.2
             }
            },
            "type": "bar"
           }
          ],
          "barpolar": [
           {
            "marker": {
             "line": {
              "color": "#E5ECF6",
              "width": 0.5
             },
             "pattern": {
              "fillmode": "overlay",
              "size": 10,
              "solidity": 0.2
             }
            },
            "type": "barpolar"
           }
          ],
          "carpet": [
           {
            "aaxis": {
             "endlinecolor": "#2a3f5f",
             "gridcolor": "white",
             "linecolor": "white",
             "minorgridcolor": "white",
             "startlinecolor": "#2a3f5f"
            },
            "baxis": {
             "endlinecolor": "#2a3f5f",
             "gridcolor": "white",
             "linecolor": "white",
             "minorgridcolor": "white",
             "startlinecolor": "#2a3f5f"
            },
            "type": "carpet"
           }
          ],
          "choropleth": [
           {
            "colorbar": {
             "outlinewidth": 0,
             "ticks": ""
            },
            "type": "choropleth"
           }
          ],
          "contour": [
           {
            "colorbar": {
             "outlinewidth": 0,
             "ticks": ""
            },
            "colorscale": [
             [
              0,
              "#0d0887"
             ],
             [
              0.1111111111111111,
              "#46039f"
             ],
             [
              0.2222222222222222,
              "#7201a8"
             ],
             [
              0.3333333333333333,
              "#9c179e"
             ],
             [
              0.4444444444444444,
              "#bd3786"
             ],
             [
              0.5555555555555556,
              "#d8576b"
             ],
             [
              0.6666666666666666,
              "#ed7953"
             ],
             [
              0.7777777777777778,
              "#fb9f3a"
             ],
             [
              0.8888888888888888,
              "#fdca26"
             ],
             [
              1,
              "#f0f921"
             ]
            ],
            "type": "contour"
           }
          ],
          "contourcarpet": [
           {
            "colorbar": {
             "outlinewidth": 0,
             "ticks": ""
            },
            "type": "contourcarpet"
           }
          ],
          "heatmap": [
           {
            "colorbar": {
             "outlinewidth": 0,
             "ticks": ""
            },
            "colorscale": [
             [
              0,
              "#0d0887"
             ],
             [
              0.1111111111111111,
              "#46039f"
             ],
             [
              0.2222222222222222,
              "#7201a8"
             ],
             [
              0.3333333333333333,
              "#9c179e"
             ],
             [
              0.4444444444444444,
              "#bd3786"
             ],
             [
              0.5555555555555556,
              "#d8576b"
             ],
             [
              0.6666666666666666,
              "#ed7953"
             ],
             [
              0.7777777777777778,
              "#fb9f3a"
             ],
             [
              0.8888888888888888,
              "#fdca26"
             ],
             [
              1,
              "#f0f921"
             ]
            ],
            "type": "heatmap"
           }
          ],
          "heatmapgl": [
           {
            "colorbar": {
             "outlinewidth": 0,
             "ticks": ""
            },
            "colorscale": [
             [
              0,
              "#0d0887"
             ],
             [
              0.1111111111111111,
              "#46039f"
             ],
             [
              0.2222222222222222,
              "#7201a8"
             ],
             [
              0.3333333333333333,
              "#9c179e"
             ],
             [
              0.4444444444444444,
              "#bd3786"
             ],
             [
              0.5555555555555556,
              "#d8576b"
             ],
             [
              0.6666666666666666,
              "#ed7953"
             ],
             [
              0.7777777777777778,
              "#fb9f3a"
             ],
             [
              0.8888888888888888,
              "#fdca26"
             ],
             [
              1,
              "#f0f921"
             ]
            ],
            "type": "heatmapgl"
           }
          ],
          "histogram": [
           {
            "marker": {
             "pattern": {
              "fillmode": "overlay",
              "size": 10,
              "solidity": 0.2
             }
            },
            "type": "histogram"
           }
          ],
          "histogram2d": [
           {
            "colorbar": {
             "outlinewidth": 0,
             "ticks": ""
            },
            "colorscale": [
             [
              0,
              "#0d0887"
             ],
             [
              0.1111111111111111,
              "#46039f"
             ],
             [
              0.2222222222222222,
              "#7201a8"
             ],
             [
              0.3333333333333333,
              "#9c179e"
             ],
             [
              0.4444444444444444,
              "#bd3786"
             ],
             [
              0.5555555555555556,
              "#d8576b"
             ],
             [
              0.6666666666666666,
              "#ed7953"
             ],
             [
              0.7777777777777778,
              "#fb9f3a"
             ],
             [
              0.8888888888888888,
              "#fdca26"
             ],
             [
              1,
              "#f0f921"
             ]
            ],
            "type": "histogram2d"
           }
          ],
          "histogram2dcontour": [
           {
            "colorbar": {
             "outlinewidth": 0,
             "ticks": ""
            },
            "colorscale": [
             [
              0,
              "#0d0887"
             ],
             [
              0.1111111111111111,
              "#46039f"
             ],
             [
              0.2222222222222222,
              "#7201a8"
             ],
             [
              0.3333333333333333,
              "#9c179e"
             ],
             [
              0.4444444444444444,
              "#bd3786"
             ],
             [
              0.5555555555555556,
              "#d8576b"
             ],
             [
              0.6666666666666666,
              "#ed7953"
             ],
             [
              0.7777777777777778,
              "#fb9f3a"
             ],
             [
              0.8888888888888888,
              "#fdca26"
             ],
             [
              1,
              "#f0f921"
             ]
            ],
            "type": "histogram2dcontour"
           }
          ],
          "mesh3d": [
           {
            "colorbar": {
             "outlinewidth": 0,
             "ticks": ""
            },
            "type": "mesh3d"
           }
          ],
          "parcoords": [
           {
            "line": {
             "colorbar": {
              "outlinewidth": 0,
              "ticks": ""
             }
            },
            "type": "parcoords"
           }
          ],
          "pie": [
           {
            "automargin": true,
            "type": "pie"
           }
          ],
          "scatter": [
           {
            "marker": {
             "colorbar": {
              "outlinewidth": 0,
              "ticks": ""
             }
            },
            "type": "scatter"
           }
          ],
          "scatter3d": [
           {
            "line": {
             "colorbar": {
              "outlinewidth": 0,
              "ticks": ""
             }
            },
            "marker": {
             "colorbar": {
              "outlinewidth": 0,
              "ticks": ""
             }
            },
            "type": "scatter3d"
           }
          ],
          "scattercarpet": [
           {
            "marker": {
             "colorbar": {
              "outlinewidth": 0,
              "ticks": ""
             }
            },
            "type": "scattercarpet"
           }
          ],
          "scattergeo": [
           {
            "marker": {
             "colorbar": {
              "outlinewidth": 0,
              "ticks": ""
             }
            },
            "type": "scattergeo"
           }
          ],
          "scattergl": [
           {
            "marker": {
             "colorbar": {
              "outlinewidth": 0,
              "ticks": ""
             }
            },
            "type": "scattergl"
           }
          ],
          "scattermapbox": [
           {
            "marker": {
             "colorbar": {
              "outlinewidth": 0,
              "ticks": ""
             }
            },
            "type": "scattermapbox"
           }
          ],
          "scatterpolar": [
           {
            "marker": {
             "colorbar": {
              "outlinewidth": 0,
              "ticks": ""
             }
            },
            "type": "scatterpolar"
           }
          ],
          "scatterpolargl": [
           {
            "marker": {
             "colorbar": {
              "outlinewidth": 0,
              "ticks": ""
             }
            },
            "type": "scatterpolargl"
           }
          ],
          "scatterternary": [
           {
            "marker": {
             "colorbar": {
              "outlinewidth": 0,
              "ticks": ""
             }
            },
            "type": "scatterternary"
           }
          ],
          "surface": [
           {
            "colorbar": {
             "outlinewidth": 0,
             "ticks": ""
            },
            "colorscale": [
             [
              0,
              "#0d0887"
             ],
             [
              0.1111111111111111,
              "#46039f"
             ],
             [
              0.2222222222222222,
              "#7201a8"
             ],
             [
              0.3333333333333333,
              "#9c179e"
             ],
             [
              0.4444444444444444,
              "#bd3786"
             ],
             [
              0.5555555555555556,
              "#d8576b"
             ],
             [
              0.6666666666666666,
              "#ed7953"
             ],
             [
              0.7777777777777778,
              "#fb9f3a"
             ],
             [
              0.8888888888888888,
              "#fdca26"
             ],
             [
              1,
              "#f0f921"
             ]
            ],
            "type": "surface"
           }
          ],
          "table": [
           {
            "cells": {
             "fill": {
              "color": "#EBF0F8"
             },
             "line": {
              "color": "white"
             }
            },
            "header": {
             "fill": {
              "color": "#C8D4E3"
             },
             "line": {
              "color": "white"
             }
            },
            "type": "table"
           }
          ]
         },
         "layout": {
          "annotationdefaults": {
           "arrowcolor": "#2a3f5f",
           "arrowhead": 0,
           "arrowwidth": 1
          },
          "autotypenumbers": "strict",
          "coloraxis": {
           "colorbar": {
            "outlinewidth": 0,
            "ticks": ""
           }
          },
          "colorscale": {
           "diverging": [
            [
             0,
             "#8e0152"
            ],
            [
             0.1,
             "#c51b7d"
            ],
            [
             0.2,
             "#de77ae"
            ],
            [
             0.3,
             "#f1b6da"
            ],
            [
             0.4,
             "#fde0ef"
            ],
            [
             0.5,
             "#f7f7f7"
            ],
            [
             0.6,
             "#e6f5d0"
            ],
            [
             0.7,
             "#b8e186"
            ],
            [
             0.8,
             "#7fbc41"
            ],
            [
             0.9,
             "#4d9221"
            ],
            [
             1,
             "#276419"
            ]
           ],
           "sequential": [
            [
             0,
             "#0d0887"
            ],
            [
             0.1111111111111111,
             "#46039f"
            ],
            [
             0.2222222222222222,
             "#7201a8"
            ],
            [
             0.3333333333333333,
             "#9c179e"
            ],
            [
             0.4444444444444444,
             "#bd3786"
            ],
            [
             0.5555555555555556,
             "#d8576b"
            ],
            [
             0.6666666666666666,
             "#ed7953"
            ],
            [
             0.7777777777777778,
             "#fb9f3a"
            ],
            [
             0.8888888888888888,
             "#fdca26"
            ],
            [
             1,
             "#f0f921"
            ]
           ],
           "sequentialminus": [
            [
             0,
             "#0d0887"
            ],
            [
             0.1111111111111111,
             "#46039f"
            ],
            [
             0.2222222222222222,
             "#7201a8"
            ],
            [
             0.3333333333333333,
             "#9c179e"
            ],
            [
             0.4444444444444444,
             "#bd3786"
            ],
            [
             0.5555555555555556,
             "#d8576b"
            ],
            [
             0.6666666666666666,
             "#ed7953"
            ],
            [
             0.7777777777777778,
             "#fb9f3a"
            ],
            [
             0.8888888888888888,
             "#fdca26"
            ],
            [
             1,
             "#f0f921"
            ]
           ]
          },
          "colorway": [
           "#636efa",
           "#EF553B",
           "#00cc96",
           "#ab63fa",
           "#FFA15A",
           "#19d3f3",
           "#FF6692",
           "#B6E880",
           "#FF97FF",
           "#FECB52"
          ],
          "font": {
           "color": "#2a3f5f"
          },
          "geo": {
           "bgcolor": "white",
           "lakecolor": "white",
           "landcolor": "#E5ECF6",
           "showlakes": true,
           "showland": true,
           "subunitcolor": "white"
          },
          "hoverlabel": {
           "align": "left"
          },
          "hovermode": "closest",
          "mapbox": {
           "style": "light"
          },
          "paper_bgcolor": "white",
          "plot_bgcolor": "#E5ECF6",
          "polar": {
           "angularaxis": {
            "gridcolor": "white",
            "linecolor": "white",
            "ticks": ""
           },
           "bgcolor": "#E5ECF6",
           "radialaxis": {
            "gridcolor": "white",
            "linecolor": "white",
            "ticks": ""
           }
          },
          "scene": {
           "xaxis": {
            "backgroundcolor": "#E5ECF6",
            "gridcolor": "white",
            "gridwidth": 2,
            "linecolor": "white",
            "showbackground": true,
            "ticks": "",
            "zerolinecolor": "white"
           },
           "yaxis": {
            "backgroundcolor": "#E5ECF6",
            "gridcolor": "white",
            "gridwidth": 2,
            "linecolor": "white",
            "showbackground": true,
            "ticks": "",
            "zerolinecolor": "white"
           },
           "zaxis": {
            "backgroundcolor": "#E5ECF6",
            "gridcolor": "white",
            "gridwidth": 2,
            "linecolor": "white",
            "showbackground": true,
            "ticks": "",
            "zerolinecolor": "white"
           }
          },
          "shapedefaults": {
           "line": {
            "color": "#2a3f5f"
           }
          },
          "ternary": {
           "aaxis": {
            "gridcolor": "white",
            "linecolor": "white",
            "ticks": ""
           },
           "baxis": {
            "gridcolor": "white",
            "linecolor": "white",
            "ticks": ""
           },
           "bgcolor": "#E5ECF6",
           "caxis": {
            "gridcolor": "white",
            "linecolor": "white",
            "ticks": ""
           }
          },
          "title": {
           "x": 0.05
          },
          "xaxis": {
           "automargin": true,
           "gridcolor": "white",
           "linecolor": "white",
           "ticks": "",
           "title": {
            "standoff": 15
           },
           "zerolinecolor": "white",
           "zerolinewidth": 2
          },
          "yaxis": {
           "automargin": true,
           "gridcolor": "white",
           "linecolor": "white",
           "ticks": "",
           "title": {
            "standoff": 15
           },
           "zerolinecolor": "white",
           "zerolinewidth": 2
          }
         }
        },
        "title": {
         "font": {
          "size": 25
         },
         "text": "Scren Plot"
        },
        "xaxis": {
         "anchor": "y",
         "domain": [
          0,
          1
         ],
         "tickfont": {
          "size": 15
         },
         "title": {
          "text": "Fatores"
         }
        },
        "yaxis": {
         "anchor": "x",
         "domain": [
          0,
          1
         ],
         "tickfont": {
          "size": 15
         },
         "title": {
          "text": "Porcentagem de variancas explicadas"
         }
        }
       }
      },
      "text/html": [
       "<div>                            <div id=\"0fc57fcb-99d0-4d67-a437-eee742335113\" class=\"plotly-graph-div\" style=\"height:525px; width:100%;\"></div>            <script type=\"text/javascript\">                require([\"plotly\"], function(Plotly) {                    window.PLOTLYENV=window.PLOTLYENV || {};                                    if (document.getElementById(\"0fc57fcb-99d0-4d67-a437-eee742335113\")) {                    Plotly.newPlot(                        \"0fc57fcb-99d0-4d67-a437-eee742335113\",                        [{\"alignmentgroup\":\"True\",\"hovertemplate\":\"x=%{x}<br>y=%{y}<br>text=%{text}<extra></extra>\",\"legendgroup\":\"\",\"marker\":{\"color\":\"#636efa\",\"pattern\":{\"shape\":\"\"}},\"name\":\"\",\"offsetgroup\":\"\",\"orientation\":\"v\",\"showlegend\":false,\"text\":[0.55,0.13,0.11,0.08,0.06,0.04,0.01,0.01,0.0],\"textposition\":\"auto\",\"x\":[\"F1\",\"F2\",\"F3\",\"F4\",\"F5\",\"F6\",\"F7\",\"F8\",\"F9\"],\"xaxis\":\"x\",\"y\":[0.5506700772160412,0.129370904863402,0.1107060135057782,0.08045184763969226,0.05881135931905231,0.04425823886307444,0.014407633896292389,0.007229609523005746,0.004094315173661436],\"yaxis\":\"y\",\"type\":\"bar\"}],                        {\"template\":{\"data\":{\"bar\":[{\"error_x\":{\"color\":\"#2a3f5f\"},\"error_y\":{\"color\":\"#2a3f5f\"},\"marker\":{\"line\":{\"color\":\"#E5ECF6\",\"width\":0.5},\"pattern\":{\"fillmode\":\"overlay\",\"size\":10,\"solidity\":0.2}},\"type\":\"bar\"}],\"barpolar\":[{\"marker\":{\"line\":{\"color\":\"#E5ECF6\",\"width\":0.5},\"pattern\":{\"fillmode\":\"overlay\",\"size\":10,\"solidity\":0.2}},\"type\":\"barpolar\"}],\"carpet\":[{\"aaxis\":{\"endlinecolor\":\"#2a3f5f\",\"gridcolor\":\"white\",\"linecolor\":\"white\",\"minorgridcolor\":\"white\",\"startlinecolor\":\"#2a3f5f\"},\"baxis\":{\"endlinecolor\":\"#2a3f5f\",\"gridcolor\":\"white\",\"linecolor\":\"white\",\"minorgridcolor\":\"white\",\"startlinecolor\":\"#2a3f5f\"},\"type\":\"carpet\"}],\"choropleth\":[{\"colorbar\":{\"outlinewidth\":0,\"ticks\":\"\"},\"type\":\"choropleth\"}],\"contour\":[{\"colorbar\":{\"outlinewidth\":0,\"ticks\":\"\"},\"colorscale\":[[0.0,\"#0d0887\"],[0.1111111111111111,\"#46039f\"],[0.2222222222222222,\"#7201a8\"],[0.3333333333333333,\"#9c179e\"],[0.4444444444444444,\"#bd3786\"],[0.5555555555555556,\"#d8576b\"],[0.6666666666666666,\"#ed7953\"],[0.7777777777777778,\"#fb9f3a\"],[0.8888888888888888,\"#fdca26\"],[1.0,\"#f0f921\"]],\"type\":\"contour\"}],\"contourcarpet\":[{\"colorbar\":{\"outlinewidth\":0,\"ticks\":\"\"},\"type\":\"contourcarpet\"}],\"heatmap\":[{\"colorbar\":{\"outlinewidth\":0,\"ticks\":\"\"},\"colorscale\":[[0.0,\"#0d0887\"],[0.1111111111111111,\"#46039f\"],[0.2222222222222222,\"#7201a8\"],[0.3333333333333333,\"#9c179e\"],[0.4444444444444444,\"#bd3786\"],[0.5555555555555556,\"#d8576b\"],[0.6666666666666666,\"#ed7953\"],[0.7777777777777778,\"#fb9f3a\"],[0.8888888888888888,\"#fdca26\"],[1.0,\"#f0f921\"]],\"type\":\"heatmap\"}],\"heatmapgl\":[{\"colorbar\":{\"outlinewidth\":0,\"ticks\":\"\"},\"colorscale\":[[0.0,\"#0d0887\"],[0.1111111111111111,\"#46039f\"],[0.2222222222222222,\"#7201a8\"],[0.3333333333333333,\"#9c179e\"],[0.4444444444444444,\"#bd3786\"],[0.5555555555555556,\"#d8576b\"],[0.6666666666666666,\"#ed7953\"],[0.7777777777777778,\"#fb9f3a\"],[0.8888888888888888,\"#fdca26\"],[1.0,\"#f0f921\"]],\"type\":\"heatmapgl\"}],\"histogram\":[{\"marker\":{\"pattern\":{\"fillmode\":\"overlay\",\"size\":10,\"solidity\":0.2}},\"type\":\"histogram\"}],\"histogram2d\":[{\"colorbar\":{\"outlinewidth\":0,\"ticks\":\"\"},\"colorscale\":[[0.0,\"#0d0887\"],[0.1111111111111111,\"#46039f\"],[0.2222222222222222,\"#7201a8\"],[0.3333333333333333,\"#9c179e\"],[0.4444444444444444,\"#bd3786\"],[0.5555555555555556,\"#d8576b\"],[0.6666666666666666,\"#ed7953\"],[0.7777777777777778,\"#fb9f3a\"],[0.8888888888888888,\"#fdca26\"],[1.0,\"#f0f921\"]],\"type\":\"histogram2d\"}],\"histogram2dcontour\":[{\"colorbar\":{\"outlinewidth\":0,\"ticks\":\"\"},\"colorscale\":[[0.0,\"#0d0887\"],[0.1111111111111111,\"#46039f\"],[0.2222222222222222,\"#7201a8\"],[0.3333333333333333,\"#9c179e\"],[0.4444444444444444,\"#bd3786\"],[0.5555555555555556,\"#d8576b\"],[0.6666666666666666,\"#ed7953\"],[0.7777777777777778,\"#fb9f3a\"],[0.8888888888888888,\"#fdca26\"],[1.0,\"#f0f921\"]],\"type\":\"histogram2dcontour\"}],\"mesh3d\":[{\"colorbar\":{\"outlinewidth\":0,\"ticks\":\"\"},\"type\":\"mesh3d\"}],\"parcoords\":[{\"line\":{\"colorbar\":{\"outlinewidth\":0,\"ticks\":\"\"}},\"type\":\"parcoords\"}],\"pie\":[{\"automargin\":true,\"type\":\"pie\"}],\"scatter\":[{\"marker\":{\"colorbar\":{\"outlinewidth\":0,\"ticks\":\"\"}},\"type\":\"scatter\"}],\"scatter3d\":[{\"line\":{\"colorbar\":{\"outlinewidth\":0,\"ticks\":\"\"}},\"marker\":{\"colorbar\":{\"outlinewidth\":0,\"ticks\":\"\"}},\"type\":\"scatter3d\"}],\"scattercarpet\":[{\"marker\":{\"colorbar\":{\"outlinewidth\":0,\"ticks\":\"\"}},\"type\":\"scattercarpet\"}],\"scattergeo\":[{\"marker\":{\"colorbar\":{\"outlinewidth\":0,\"ticks\":\"\"}},\"type\":\"scattergeo\"}],\"scattergl\":[{\"marker\":{\"colorbar\":{\"outlinewidth\":0,\"ticks\":\"\"}},\"type\":\"scattergl\"}],\"scattermapbox\":[{\"marker\":{\"colorbar\":{\"outlinewidth\":0,\"ticks\":\"\"}},\"type\":\"scattermapbox\"}],\"scatterpolar\":[{\"marker\":{\"colorbar\":{\"outlinewidth\":0,\"ticks\":\"\"}},\"type\":\"scatterpolar\"}],\"scatterpolargl\":[{\"marker\":{\"colorbar\":{\"outlinewidth\":0,\"ticks\":\"\"}},\"type\":\"scatterpolargl\"}],\"scatterternary\":[{\"marker\":{\"colorbar\":{\"outlinewidth\":0,\"ticks\":\"\"}},\"type\":\"scatterternary\"}],\"surface\":[{\"colorbar\":{\"outlinewidth\":0,\"ticks\":\"\"},\"colorscale\":[[0.0,\"#0d0887\"],[0.1111111111111111,\"#46039f\"],[0.2222222222222222,\"#7201a8\"],[0.3333333333333333,\"#9c179e\"],[0.4444444444444444,\"#bd3786\"],[0.5555555555555556,\"#d8576b\"],[0.6666666666666666,\"#ed7953\"],[0.7777777777777778,\"#fb9f3a\"],[0.8888888888888888,\"#fdca26\"],[1.0,\"#f0f921\"]],\"type\":\"surface\"}],\"table\":[{\"cells\":{\"fill\":{\"color\":\"#EBF0F8\"},\"line\":{\"color\":\"white\"}},\"header\":{\"fill\":{\"color\":\"#C8D4E3\"},\"line\":{\"color\":\"white\"}},\"type\":\"table\"}]},\"layout\":{\"annotationdefaults\":{\"arrowcolor\":\"#2a3f5f\",\"arrowhead\":0,\"arrowwidth\":1},\"autotypenumbers\":\"strict\",\"coloraxis\":{\"colorbar\":{\"outlinewidth\":0,\"ticks\":\"\"}},\"colorscale\":{\"diverging\":[[0,\"#8e0152\"],[0.1,\"#c51b7d\"],[0.2,\"#de77ae\"],[0.3,\"#f1b6da\"],[0.4,\"#fde0ef\"],[0.5,\"#f7f7f7\"],[0.6,\"#e6f5d0\"],[0.7,\"#b8e186\"],[0.8,\"#7fbc41\"],[0.9,\"#4d9221\"],[1,\"#276419\"]],\"sequential\":[[0.0,\"#0d0887\"],[0.1111111111111111,\"#46039f\"],[0.2222222222222222,\"#7201a8\"],[0.3333333333333333,\"#9c179e\"],[0.4444444444444444,\"#bd3786\"],[0.5555555555555556,\"#d8576b\"],[0.6666666666666666,\"#ed7953\"],[0.7777777777777778,\"#fb9f3a\"],[0.8888888888888888,\"#fdca26\"],[1.0,\"#f0f921\"]],\"sequentialminus\":[[0.0,\"#0d0887\"],[0.1111111111111111,\"#46039f\"],[0.2222222222222222,\"#7201a8\"],[0.3333333333333333,\"#9c179e\"],[0.4444444444444444,\"#bd3786\"],[0.5555555555555556,\"#d8576b\"],[0.6666666666666666,\"#ed7953\"],[0.7777777777777778,\"#fb9f3a\"],[0.8888888888888888,\"#fdca26\"],[1.0,\"#f0f921\"]]},\"colorway\":[\"#636efa\",\"#EF553B\",\"#00cc96\",\"#ab63fa\",\"#FFA15A\",\"#19d3f3\",\"#FF6692\",\"#B6E880\",\"#FF97FF\",\"#FECB52\"],\"font\":{\"color\":\"#2a3f5f\"},\"geo\":{\"bgcolor\":\"white\",\"lakecolor\":\"white\",\"landcolor\":\"#E5ECF6\",\"showlakes\":true,\"showland\":true,\"subunitcolor\":\"white\"},\"hoverlabel\":{\"align\":\"left\"},\"hovermode\":\"closest\",\"mapbox\":{\"style\":\"light\"},\"paper_bgcolor\":\"white\",\"plot_bgcolor\":\"#E5ECF6\",\"polar\":{\"angularaxis\":{\"gridcolor\":\"white\",\"linecolor\":\"white\",\"ticks\":\"\"},\"bgcolor\":\"#E5ECF6\",\"radialaxis\":{\"gridcolor\":\"white\",\"linecolor\":\"white\",\"ticks\":\"\"}},\"scene\":{\"xaxis\":{\"backgroundcolor\":\"#E5ECF6\",\"gridcolor\":\"white\",\"gridwidth\":2,\"linecolor\":\"white\",\"showbackground\":true,\"ticks\":\"\",\"zerolinecolor\":\"white\"},\"yaxis\":{\"backgroundcolor\":\"#E5ECF6\",\"gridcolor\":\"white\",\"gridwidth\":2,\"linecolor\":\"white\",\"showbackground\":true,\"ticks\":\"\",\"zerolinecolor\":\"white\"},\"zaxis\":{\"backgroundcolor\":\"#E5ECF6\",\"gridcolor\":\"white\",\"gridwidth\":2,\"linecolor\":\"white\",\"showbackground\":true,\"ticks\":\"\",\"zerolinecolor\":\"white\"}},\"shapedefaults\":{\"line\":{\"color\":\"#2a3f5f\"}},\"ternary\":{\"aaxis\":{\"gridcolor\":\"white\",\"linecolor\":\"white\",\"ticks\":\"\"},\"baxis\":{\"gridcolor\":\"white\",\"linecolor\":\"white\",\"ticks\":\"\"},\"bgcolor\":\"#E5ECF6\",\"caxis\":{\"gridcolor\":\"white\",\"linecolor\":\"white\",\"ticks\":\"\"}},\"title\":{\"x\":0.05},\"xaxis\":{\"automargin\":true,\"gridcolor\":\"white\",\"linecolor\":\"white\",\"ticks\":\"\",\"title\":{\"standoff\":15},\"zerolinecolor\":\"white\",\"zerolinewidth\":2},\"yaxis\":{\"automargin\":true,\"gridcolor\":\"white\",\"linecolor\":\"white\",\"ticks\":\"\",\"title\":{\"standoff\":15},\"zerolinecolor\":\"white\",\"zerolinewidth\":2}}},\"xaxis\":{\"anchor\":\"y\",\"domain\":[0.0,1.0],\"title\":{\"text\":\"Fatores\"},\"tickfont\":{\"size\":15}},\"yaxis\":{\"anchor\":\"x\",\"domain\":[0.0,1.0],\"title\":{\"text\":\"Porcentagem de variancas explicadas\"},\"tickfont\":{\"size\":15}},\"legend\":{\"tracegroupgap\":0},\"title\":{\"text\":\"Scren Plot\",\"font\":{\"size\":25}},\"barmode\":\"relative\"},                        {\"responsive\": true}                    ).then(function(){\n",
       "                            \n",
       "var gd = document.getElementById('0fc57fcb-99d0-4d67-a437-eee742335113');\n",
       "var x = new MutationObserver(function (mutations, observer) {{\n",
       "        var display = window.getComputedStyle(gd).display;\n",
       "        if (!display || display === 'none') {{\n",
       "            console.log([gd, 'removed!']);\n",
       "            Plotly.purge(gd);\n",
       "            observer.disconnect();\n",
       "        }}\n",
       "}});\n",
       "\n",
       "// Listen for the removal of the full notebook cells\n",
       "var notebookContainer = gd.closest('#notebook-container');\n",
       "if (notebookContainer) {{\n",
       "    x.observe(notebookContainer, {childList: true});\n",
       "}}\n",
       "\n",
       "// Listen for the clearing of the current output cell\n",
       "var outputEl = gd.closest('.output');\n",
       "if (outputEl) {{\n",
       "    x.observe(outputEl, {childList: true});\n",
       "}}\n",
       "\n",
       "                        })                };                });            </script>        </div>"
      ]
     },
     "metadata": {},
     "output_type": "display_data"
    }
   ],
   "source": [
    "fig = px.bar(x= fatores, y = pca.explained_variance_ratio_, text = np.around(pca.explained_variance_ratio_, decimals =2),\n",
    "            title = \"Scren Plot\")\n",
    "fig.update_layout(yaxis ={'title': 'Porcentagem de variancas explicadas', 'tickfont': {'size': 15}},\n",
    "                 xaxis = {'title': 'Fatores','tickfont': {'size': 15}}, \n",
    "                 title= {'font':{'size':25}})\n",
    "fig.show()"
   ]
  },
  {
   "cell_type": "markdown",
   "id": "22654070",
   "metadata": {},
   "source": [
    "## Variancia acumulada"
   ]
  },
  {
   "cell_type": "code",
   "execution_count": 63,
   "id": "91d6e204",
   "metadata": {},
   "outputs": [
    {
     "data": {
      "text/plain": [
       "[0.5506700772160412,\n",
       " 0.6800409820794432,\n",
       " 0.7907469955852214,\n",
       " 0.8711988432249137,\n",
       " 0.930010202543966,\n",
       " 0.9742684414070405,\n",
       " 0.9886760753033329,\n",
       " 0.9959056848263387,\n",
       " 1.0000000000000002]"
      ]
     },
     "execution_count": 63,
     "metadata": {},
     "output_type": "execute_result"
    }
   ],
   "source": [
    "variancia_acumulada= [sum(pca.explained_variance_ratio_[0:i+1]) for i in range (n_fatores)]\n",
    "variancia_acumulada"
   ]
  },
  {
   "cell_type": "code",
   "execution_count": 64,
   "id": "f5fde146",
   "metadata": {},
   "outputs": [
    {
     "data": {
      "application/vnd.plotly.v1+json": {
       "config": {
        "plotlyServerURL": "https://plot.ly"
       },
       "data": [
        {
         "alignmentgroup": "True",
         "hovertemplate": "x=%{x}<br>y=%{y}<br>text=%{text}<extra></extra>",
         "legendgroup": "",
         "marker": {
          "color": "#636efa",
          "pattern": {
           "shape": ""
          }
         },
         "name": "",
         "offsetgroup": "",
         "orientation": "v",
         "showlegend": false,
         "text": [
          0.55,
          0.68,
          0.79,
          0.87,
          0.93,
          0.97,
          0.99,
          1,
          1
         ],
         "textposition": "auto",
         "type": "bar",
         "x": [
          "F1",
          "F2",
          "F3",
          "F4",
          "F5",
          "F6",
          "F7",
          "F8",
          "F9"
         ],
         "xaxis": "x",
         "y": [
          0.5506700772160412,
          0.6800409820794432,
          0.7907469955852214,
          0.8711988432249137,
          0.930010202543966,
          0.9742684414070405,
          0.9886760753033329,
          0.9959056848263387,
          1.0000000000000002
         ],
         "yaxis": "y"
        }
       ],
       "layout": {
        "barmode": "relative",
        "legend": {
         "tracegroupgap": 0
        },
        "template": {
         "data": {
          "bar": [
           {
            "error_x": {
             "color": "#2a3f5f"
            },
            "error_y": {
             "color": "#2a3f5f"
            },
            "marker": {
             "line": {
              "color": "#E5ECF6",
              "width": 0.5
             },
             "pattern": {
              "fillmode": "overlay",
              "size": 10,
              "solidity": 0.2
             }
            },
            "type": "bar"
           }
          ],
          "barpolar": [
           {
            "marker": {
             "line": {
              "color": "#E5ECF6",
              "width": 0.5
             },
             "pattern": {
              "fillmode": "overlay",
              "size": 10,
              "solidity": 0.2
             }
            },
            "type": "barpolar"
           }
          ],
          "carpet": [
           {
            "aaxis": {
             "endlinecolor": "#2a3f5f",
             "gridcolor": "white",
             "linecolor": "white",
             "minorgridcolor": "white",
             "startlinecolor": "#2a3f5f"
            },
            "baxis": {
             "endlinecolor": "#2a3f5f",
             "gridcolor": "white",
             "linecolor": "white",
             "minorgridcolor": "white",
             "startlinecolor": "#2a3f5f"
            },
            "type": "carpet"
           }
          ],
          "choropleth": [
           {
            "colorbar": {
             "outlinewidth": 0,
             "ticks": ""
            },
            "type": "choropleth"
           }
          ],
          "contour": [
           {
            "colorbar": {
             "outlinewidth": 0,
             "ticks": ""
            },
            "colorscale": [
             [
              0,
              "#0d0887"
             ],
             [
              0.1111111111111111,
              "#46039f"
             ],
             [
              0.2222222222222222,
              "#7201a8"
             ],
             [
              0.3333333333333333,
              "#9c179e"
             ],
             [
              0.4444444444444444,
              "#bd3786"
             ],
             [
              0.5555555555555556,
              "#d8576b"
             ],
             [
              0.6666666666666666,
              "#ed7953"
             ],
             [
              0.7777777777777778,
              "#fb9f3a"
             ],
             [
              0.8888888888888888,
              "#fdca26"
             ],
             [
              1,
              "#f0f921"
             ]
            ],
            "type": "contour"
           }
          ],
          "contourcarpet": [
           {
            "colorbar": {
             "outlinewidth": 0,
             "ticks": ""
            },
            "type": "contourcarpet"
           }
          ],
          "heatmap": [
           {
            "colorbar": {
             "outlinewidth": 0,
             "ticks": ""
            },
            "colorscale": [
             [
              0,
              "#0d0887"
             ],
             [
              0.1111111111111111,
              "#46039f"
             ],
             [
              0.2222222222222222,
              "#7201a8"
             ],
             [
              0.3333333333333333,
              "#9c179e"
             ],
             [
              0.4444444444444444,
              "#bd3786"
             ],
             [
              0.5555555555555556,
              "#d8576b"
             ],
             [
              0.6666666666666666,
              "#ed7953"
             ],
             [
              0.7777777777777778,
              "#fb9f3a"
             ],
             [
              0.8888888888888888,
              "#fdca26"
             ],
             [
              1,
              "#f0f921"
             ]
            ],
            "type": "heatmap"
           }
          ],
          "heatmapgl": [
           {
            "colorbar": {
             "outlinewidth": 0,
             "ticks": ""
            },
            "colorscale": [
             [
              0,
              "#0d0887"
             ],
             [
              0.1111111111111111,
              "#46039f"
             ],
             [
              0.2222222222222222,
              "#7201a8"
             ],
             [
              0.3333333333333333,
              "#9c179e"
             ],
             [
              0.4444444444444444,
              "#bd3786"
             ],
             [
              0.5555555555555556,
              "#d8576b"
             ],
             [
              0.6666666666666666,
              "#ed7953"
             ],
             [
              0.7777777777777778,
              "#fb9f3a"
             ],
             [
              0.8888888888888888,
              "#fdca26"
             ],
             [
              1,
              "#f0f921"
             ]
            ],
            "type": "heatmapgl"
           }
          ],
          "histogram": [
           {
            "marker": {
             "pattern": {
              "fillmode": "overlay",
              "size": 10,
              "solidity": 0.2
             }
            },
            "type": "histogram"
           }
          ],
          "histogram2d": [
           {
            "colorbar": {
             "outlinewidth": 0,
             "ticks": ""
            },
            "colorscale": [
             [
              0,
              "#0d0887"
             ],
             [
              0.1111111111111111,
              "#46039f"
             ],
             [
              0.2222222222222222,
              "#7201a8"
             ],
             [
              0.3333333333333333,
              "#9c179e"
             ],
             [
              0.4444444444444444,
              "#bd3786"
             ],
             [
              0.5555555555555556,
              "#d8576b"
             ],
             [
              0.6666666666666666,
              "#ed7953"
             ],
             [
              0.7777777777777778,
              "#fb9f3a"
             ],
             [
              0.8888888888888888,
              "#fdca26"
             ],
             [
              1,
              "#f0f921"
             ]
            ],
            "type": "histogram2d"
           }
          ],
          "histogram2dcontour": [
           {
            "colorbar": {
             "outlinewidth": 0,
             "ticks": ""
            },
            "colorscale": [
             [
              0,
              "#0d0887"
             ],
             [
              0.1111111111111111,
              "#46039f"
             ],
             [
              0.2222222222222222,
              "#7201a8"
             ],
             [
              0.3333333333333333,
              "#9c179e"
             ],
             [
              0.4444444444444444,
              "#bd3786"
             ],
             [
              0.5555555555555556,
              "#d8576b"
             ],
             [
              0.6666666666666666,
              "#ed7953"
             ],
             [
              0.7777777777777778,
              "#fb9f3a"
             ],
             [
              0.8888888888888888,
              "#fdca26"
             ],
             [
              1,
              "#f0f921"
             ]
            ],
            "type": "histogram2dcontour"
           }
          ],
          "mesh3d": [
           {
            "colorbar": {
             "outlinewidth": 0,
             "ticks": ""
            },
            "type": "mesh3d"
           }
          ],
          "parcoords": [
           {
            "line": {
             "colorbar": {
              "outlinewidth": 0,
              "ticks": ""
             }
            },
            "type": "parcoords"
           }
          ],
          "pie": [
           {
            "automargin": true,
            "type": "pie"
           }
          ],
          "scatter": [
           {
            "marker": {
             "colorbar": {
              "outlinewidth": 0,
              "ticks": ""
             }
            },
            "type": "scatter"
           }
          ],
          "scatter3d": [
           {
            "line": {
             "colorbar": {
              "outlinewidth": 0,
              "ticks": ""
             }
            },
            "marker": {
             "colorbar": {
              "outlinewidth": 0,
              "ticks": ""
             }
            },
            "type": "scatter3d"
           }
          ],
          "scattercarpet": [
           {
            "marker": {
             "colorbar": {
              "outlinewidth": 0,
              "ticks": ""
             }
            },
            "type": "scattercarpet"
           }
          ],
          "scattergeo": [
           {
            "marker": {
             "colorbar": {
              "outlinewidth": 0,
              "ticks": ""
             }
            },
            "type": "scattergeo"
           }
          ],
          "scattergl": [
           {
            "marker": {
             "colorbar": {
              "outlinewidth": 0,
              "ticks": ""
             }
            },
            "type": "scattergl"
           }
          ],
          "scattermapbox": [
           {
            "marker": {
             "colorbar": {
              "outlinewidth": 0,
              "ticks": ""
             }
            },
            "type": "scattermapbox"
           }
          ],
          "scatterpolar": [
           {
            "marker": {
             "colorbar": {
              "outlinewidth": 0,
              "ticks": ""
             }
            },
            "type": "scatterpolar"
           }
          ],
          "scatterpolargl": [
           {
            "marker": {
             "colorbar": {
              "outlinewidth": 0,
              "ticks": ""
             }
            },
            "type": "scatterpolargl"
           }
          ],
          "scatterternary": [
           {
            "marker": {
             "colorbar": {
              "outlinewidth": 0,
              "ticks": ""
             }
            },
            "type": "scatterternary"
           }
          ],
          "surface": [
           {
            "colorbar": {
             "outlinewidth": 0,
             "ticks": ""
            },
            "colorscale": [
             [
              0,
              "#0d0887"
             ],
             [
              0.1111111111111111,
              "#46039f"
             ],
             [
              0.2222222222222222,
              "#7201a8"
             ],
             [
              0.3333333333333333,
              "#9c179e"
             ],
             [
              0.4444444444444444,
              "#bd3786"
             ],
             [
              0.5555555555555556,
              "#d8576b"
             ],
             [
              0.6666666666666666,
              "#ed7953"
             ],
             [
              0.7777777777777778,
              "#fb9f3a"
             ],
             [
              0.8888888888888888,
              "#fdca26"
             ],
             [
              1,
              "#f0f921"
             ]
            ],
            "type": "surface"
           }
          ],
          "table": [
           {
            "cells": {
             "fill": {
              "color": "#EBF0F8"
             },
             "line": {
              "color": "white"
             }
            },
            "header": {
             "fill": {
              "color": "#C8D4E3"
             },
             "line": {
              "color": "white"
             }
            },
            "type": "table"
           }
          ]
         },
         "layout": {
          "annotationdefaults": {
           "arrowcolor": "#2a3f5f",
           "arrowhead": 0,
           "arrowwidth": 1
          },
          "autotypenumbers": "strict",
          "coloraxis": {
           "colorbar": {
            "outlinewidth": 0,
            "ticks": ""
           }
          },
          "colorscale": {
           "diverging": [
            [
             0,
             "#8e0152"
            ],
            [
             0.1,
             "#c51b7d"
            ],
            [
             0.2,
             "#de77ae"
            ],
            [
             0.3,
             "#f1b6da"
            ],
            [
             0.4,
             "#fde0ef"
            ],
            [
             0.5,
             "#f7f7f7"
            ],
            [
             0.6,
             "#e6f5d0"
            ],
            [
             0.7,
             "#b8e186"
            ],
            [
             0.8,
             "#7fbc41"
            ],
            [
             0.9,
             "#4d9221"
            ],
            [
             1,
             "#276419"
            ]
           ],
           "sequential": [
            [
             0,
             "#0d0887"
            ],
            [
             0.1111111111111111,
             "#46039f"
            ],
            [
             0.2222222222222222,
             "#7201a8"
            ],
            [
             0.3333333333333333,
             "#9c179e"
            ],
            [
             0.4444444444444444,
             "#bd3786"
            ],
            [
             0.5555555555555556,
             "#d8576b"
            ],
            [
             0.6666666666666666,
             "#ed7953"
            ],
            [
             0.7777777777777778,
             "#fb9f3a"
            ],
            [
             0.8888888888888888,
             "#fdca26"
            ],
            [
             1,
             "#f0f921"
            ]
           ],
           "sequentialminus": [
            [
             0,
             "#0d0887"
            ],
            [
             0.1111111111111111,
             "#46039f"
            ],
            [
             0.2222222222222222,
             "#7201a8"
            ],
            [
             0.3333333333333333,
             "#9c179e"
            ],
            [
             0.4444444444444444,
             "#bd3786"
            ],
            [
             0.5555555555555556,
             "#d8576b"
            ],
            [
             0.6666666666666666,
             "#ed7953"
            ],
            [
             0.7777777777777778,
             "#fb9f3a"
            ],
            [
             0.8888888888888888,
             "#fdca26"
            ],
            [
             1,
             "#f0f921"
            ]
           ]
          },
          "colorway": [
           "#636efa",
           "#EF553B",
           "#00cc96",
           "#ab63fa",
           "#FFA15A",
           "#19d3f3",
           "#FF6692",
           "#B6E880",
           "#FF97FF",
           "#FECB52"
          ],
          "font": {
           "color": "#2a3f5f"
          },
          "geo": {
           "bgcolor": "white",
           "lakecolor": "white",
           "landcolor": "#E5ECF6",
           "showlakes": true,
           "showland": true,
           "subunitcolor": "white"
          },
          "hoverlabel": {
           "align": "left"
          },
          "hovermode": "closest",
          "mapbox": {
           "style": "light"
          },
          "paper_bgcolor": "white",
          "plot_bgcolor": "#E5ECF6",
          "polar": {
           "angularaxis": {
            "gridcolor": "white",
            "linecolor": "white",
            "ticks": ""
           },
           "bgcolor": "#E5ECF6",
           "radialaxis": {
            "gridcolor": "white",
            "linecolor": "white",
            "ticks": ""
           }
          },
          "scene": {
           "xaxis": {
            "backgroundcolor": "#E5ECF6",
            "gridcolor": "white",
            "gridwidth": 2,
            "linecolor": "white",
            "showbackground": true,
            "ticks": "",
            "zerolinecolor": "white"
           },
           "yaxis": {
            "backgroundcolor": "#E5ECF6",
            "gridcolor": "white",
            "gridwidth": 2,
            "linecolor": "white",
            "showbackground": true,
            "ticks": "",
            "zerolinecolor": "white"
           },
           "zaxis": {
            "backgroundcolor": "#E5ECF6",
            "gridcolor": "white",
            "gridwidth": 2,
            "linecolor": "white",
            "showbackground": true,
            "ticks": "",
            "zerolinecolor": "white"
           }
          },
          "shapedefaults": {
           "line": {
            "color": "#2a3f5f"
           }
          },
          "ternary": {
           "aaxis": {
            "gridcolor": "white",
            "linecolor": "white",
            "ticks": ""
           },
           "baxis": {
            "gridcolor": "white",
            "linecolor": "white",
            "ticks": ""
           },
           "bgcolor": "#E5ECF6",
           "caxis": {
            "gridcolor": "white",
            "linecolor": "white",
            "ticks": ""
           }
          },
          "title": {
           "x": 0.05
          },
          "xaxis": {
           "automargin": true,
           "gridcolor": "white",
           "linecolor": "white",
           "ticks": "",
           "title": {
            "standoff": 15
           },
           "zerolinecolor": "white",
           "zerolinewidth": 2
          },
          "yaxis": {
           "automargin": true,
           "gridcolor": "white",
           "linecolor": "white",
           "ticks": "",
           "title": {
            "standoff": 15
           },
           "zerolinecolor": "white",
           "zerolinewidth": 2
          }
         }
        },
        "title": {
         "font": {
          "size": 25
         },
         "text": "Scren Plot"
        },
        "xaxis": {
         "anchor": "y",
         "domain": [
          0,
          1
         ],
         "tickfont": {
          "size": 15
         },
         "title": {
          "text": "Fatores"
         }
        },
        "yaxis": {
         "anchor": "x",
         "domain": [
          0,
          1
         ],
         "tickfont": {
          "size": 15
         },
         "title": {
          "text": "Porcentagem de variancas explicadas"
         }
        }
       }
      },
      "text/html": [
       "<div>                            <div id=\"a5d8a116-37a6-4c0d-b7c0-b7a80ceea187\" class=\"plotly-graph-div\" style=\"height:525px; width:100%;\"></div>            <script type=\"text/javascript\">                require([\"plotly\"], function(Plotly) {                    window.PLOTLYENV=window.PLOTLYENV || {};                                    if (document.getElementById(\"a5d8a116-37a6-4c0d-b7c0-b7a80ceea187\")) {                    Plotly.newPlot(                        \"a5d8a116-37a6-4c0d-b7c0-b7a80ceea187\",                        [{\"alignmentgroup\":\"True\",\"hovertemplate\":\"x=%{x}<br>y=%{y}<br>text=%{text}<extra></extra>\",\"legendgroup\":\"\",\"marker\":{\"color\":\"#636efa\",\"pattern\":{\"shape\":\"\"}},\"name\":\"\",\"offsetgroup\":\"\",\"orientation\":\"v\",\"showlegend\":false,\"text\":[0.55,0.68,0.79,0.87,0.93,0.97,0.99,1.0,1.0],\"textposition\":\"auto\",\"x\":[\"F1\",\"F2\",\"F3\",\"F4\",\"F5\",\"F6\",\"F7\",\"F8\",\"F9\"],\"xaxis\":\"x\",\"y\":[0.5506700772160412,0.6800409820794432,0.7907469955852214,0.8711988432249137,0.930010202543966,0.9742684414070405,0.9886760753033329,0.9959056848263387,1.0000000000000002],\"yaxis\":\"y\",\"type\":\"bar\"}],                        {\"template\":{\"data\":{\"bar\":[{\"error_x\":{\"color\":\"#2a3f5f\"},\"error_y\":{\"color\":\"#2a3f5f\"},\"marker\":{\"line\":{\"color\":\"#E5ECF6\",\"width\":0.5},\"pattern\":{\"fillmode\":\"overlay\",\"size\":10,\"solidity\":0.2}},\"type\":\"bar\"}],\"barpolar\":[{\"marker\":{\"line\":{\"color\":\"#E5ECF6\",\"width\":0.5},\"pattern\":{\"fillmode\":\"overlay\",\"size\":10,\"solidity\":0.2}},\"type\":\"barpolar\"}],\"carpet\":[{\"aaxis\":{\"endlinecolor\":\"#2a3f5f\",\"gridcolor\":\"white\",\"linecolor\":\"white\",\"minorgridcolor\":\"white\",\"startlinecolor\":\"#2a3f5f\"},\"baxis\":{\"endlinecolor\":\"#2a3f5f\",\"gridcolor\":\"white\",\"linecolor\":\"white\",\"minorgridcolor\":\"white\",\"startlinecolor\":\"#2a3f5f\"},\"type\":\"carpet\"}],\"choropleth\":[{\"colorbar\":{\"outlinewidth\":0,\"ticks\":\"\"},\"type\":\"choropleth\"}],\"contour\":[{\"colorbar\":{\"outlinewidth\":0,\"ticks\":\"\"},\"colorscale\":[[0.0,\"#0d0887\"],[0.1111111111111111,\"#46039f\"],[0.2222222222222222,\"#7201a8\"],[0.3333333333333333,\"#9c179e\"],[0.4444444444444444,\"#bd3786\"],[0.5555555555555556,\"#d8576b\"],[0.6666666666666666,\"#ed7953\"],[0.7777777777777778,\"#fb9f3a\"],[0.8888888888888888,\"#fdca26\"],[1.0,\"#f0f921\"]],\"type\":\"contour\"}],\"contourcarpet\":[{\"colorbar\":{\"outlinewidth\":0,\"ticks\":\"\"},\"type\":\"contourcarpet\"}],\"heatmap\":[{\"colorbar\":{\"outlinewidth\":0,\"ticks\":\"\"},\"colorscale\":[[0.0,\"#0d0887\"],[0.1111111111111111,\"#46039f\"],[0.2222222222222222,\"#7201a8\"],[0.3333333333333333,\"#9c179e\"],[0.4444444444444444,\"#bd3786\"],[0.5555555555555556,\"#d8576b\"],[0.6666666666666666,\"#ed7953\"],[0.7777777777777778,\"#fb9f3a\"],[0.8888888888888888,\"#fdca26\"],[1.0,\"#f0f921\"]],\"type\":\"heatmap\"}],\"heatmapgl\":[{\"colorbar\":{\"outlinewidth\":0,\"ticks\":\"\"},\"colorscale\":[[0.0,\"#0d0887\"],[0.1111111111111111,\"#46039f\"],[0.2222222222222222,\"#7201a8\"],[0.3333333333333333,\"#9c179e\"],[0.4444444444444444,\"#bd3786\"],[0.5555555555555556,\"#d8576b\"],[0.6666666666666666,\"#ed7953\"],[0.7777777777777778,\"#fb9f3a\"],[0.8888888888888888,\"#fdca26\"],[1.0,\"#f0f921\"]],\"type\":\"heatmapgl\"}],\"histogram\":[{\"marker\":{\"pattern\":{\"fillmode\":\"overlay\",\"size\":10,\"solidity\":0.2}},\"type\":\"histogram\"}],\"histogram2d\":[{\"colorbar\":{\"outlinewidth\":0,\"ticks\":\"\"},\"colorscale\":[[0.0,\"#0d0887\"],[0.1111111111111111,\"#46039f\"],[0.2222222222222222,\"#7201a8\"],[0.3333333333333333,\"#9c179e\"],[0.4444444444444444,\"#bd3786\"],[0.5555555555555556,\"#d8576b\"],[0.6666666666666666,\"#ed7953\"],[0.7777777777777778,\"#fb9f3a\"],[0.8888888888888888,\"#fdca26\"],[1.0,\"#f0f921\"]],\"type\":\"histogram2d\"}],\"histogram2dcontour\":[{\"colorbar\":{\"outlinewidth\":0,\"ticks\":\"\"},\"colorscale\":[[0.0,\"#0d0887\"],[0.1111111111111111,\"#46039f\"],[0.2222222222222222,\"#7201a8\"],[0.3333333333333333,\"#9c179e\"],[0.4444444444444444,\"#bd3786\"],[0.5555555555555556,\"#d8576b\"],[0.6666666666666666,\"#ed7953\"],[0.7777777777777778,\"#fb9f3a\"],[0.8888888888888888,\"#fdca26\"],[1.0,\"#f0f921\"]],\"type\":\"histogram2dcontour\"}],\"mesh3d\":[{\"colorbar\":{\"outlinewidth\":0,\"ticks\":\"\"},\"type\":\"mesh3d\"}],\"parcoords\":[{\"line\":{\"colorbar\":{\"outlinewidth\":0,\"ticks\":\"\"}},\"type\":\"parcoords\"}],\"pie\":[{\"automargin\":true,\"type\":\"pie\"}],\"scatter\":[{\"marker\":{\"colorbar\":{\"outlinewidth\":0,\"ticks\":\"\"}},\"type\":\"scatter\"}],\"scatter3d\":[{\"line\":{\"colorbar\":{\"outlinewidth\":0,\"ticks\":\"\"}},\"marker\":{\"colorbar\":{\"outlinewidth\":0,\"ticks\":\"\"}},\"type\":\"scatter3d\"}],\"scattercarpet\":[{\"marker\":{\"colorbar\":{\"outlinewidth\":0,\"ticks\":\"\"}},\"type\":\"scattercarpet\"}],\"scattergeo\":[{\"marker\":{\"colorbar\":{\"outlinewidth\":0,\"ticks\":\"\"}},\"type\":\"scattergeo\"}],\"scattergl\":[{\"marker\":{\"colorbar\":{\"outlinewidth\":0,\"ticks\":\"\"}},\"type\":\"scattergl\"}],\"scattermapbox\":[{\"marker\":{\"colorbar\":{\"outlinewidth\":0,\"ticks\":\"\"}},\"type\":\"scattermapbox\"}],\"scatterpolar\":[{\"marker\":{\"colorbar\":{\"outlinewidth\":0,\"ticks\":\"\"}},\"type\":\"scatterpolar\"}],\"scatterpolargl\":[{\"marker\":{\"colorbar\":{\"outlinewidth\":0,\"ticks\":\"\"}},\"type\":\"scatterpolargl\"}],\"scatterternary\":[{\"marker\":{\"colorbar\":{\"outlinewidth\":0,\"ticks\":\"\"}},\"type\":\"scatterternary\"}],\"surface\":[{\"colorbar\":{\"outlinewidth\":0,\"ticks\":\"\"},\"colorscale\":[[0.0,\"#0d0887\"],[0.1111111111111111,\"#46039f\"],[0.2222222222222222,\"#7201a8\"],[0.3333333333333333,\"#9c179e\"],[0.4444444444444444,\"#bd3786\"],[0.5555555555555556,\"#d8576b\"],[0.6666666666666666,\"#ed7953\"],[0.7777777777777778,\"#fb9f3a\"],[0.8888888888888888,\"#fdca26\"],[1.0,\"#f0f921\"]],\"type\":\"surface\"}],\"table\":[{\"cells\":{\"fill\":{\"color\":\"#EBF0F8\"},\"line\":{\"color\":\"white\"}},\"header\":{\"fill\":{\"color\":\"#C8D4E3\"},\"line\":{\"color\":\"white\"}},\"type\":\"table\"}]},\"layout\":{\"annotationdefaults\":{\"arrowcolor\":\"#2a3f5f\",\"arrowhead\":0,\"arrowwidth\":1},\"autotypenumbers\":\"strict\",\"coloraxis\":{\"colorbar\":{\"outlinewidth\":0,\"ticks\":\"\"}},\"colorscale\":{\"diverging\":[[0,\"#8e0152\"],[0.1,\"#c51b7d\"],[0.2,\"#de77ae\"],[0.3,\"#f1b6da\"],[0.4,\"#fde0ef\"],[0.5,\"#f7f7f7\"],[0.6,\"#e6f5d0\"],[0.7,\"#b8e186\"],[0.8,\"#7fbc41\"],[0.9,\"#4d9221\"],[1,\"#276419\"]],\"sequential\":[[0.0,\"#0d0887\"],[0.1111111111111111,\"#46039f\"],[0.2222222222222222,\"#7201a8\"],[0.3333333333333333,\"#9c179e\"],[0.4444444444444444,\"#bd3786\"],[0.5555555555555556,\"#d8576b\"],[0.6666666666666666,\"#ed7953\"],[0.7777777777777778,\"#fb9f3a\"],[0.8888888888888888,\"#fdca26\"],[1.0,\"#f0f921\"]],\"sequentialminus\":[[0.0,\"#0d0887\"],[0.1111111111111111,\"#46039f\"],[0.2222222222222222,\"#7201a8\"],[0.3333333333333333,\"#9c179e\"],[0.4444444444444444,\"#bd3786\"],[0.5555555555555556,\"#d8576b\"],[0.6666666666666666,\"#ed7953\"],[0.7777777777777778,\"#fb9f3a\"],[0.8888888888888888,\"#fdca26\"],[1.0,\"#f0f921\"]]},\"colorway\":[\"#636efa\",\"#EF553B\",\"#00cc96\",\"#ab63fa\",\"#FFA15A\",\"#19d3f3\",\"#FF6692\",\"#B6E880\",\"#FF97FF\",\"#FECB52\"],\"font\":{\"color\":\"#2a3f5f\"},\"geo\":{\"bgcolor\":\"white\",\"lakecolor\":\"white\",\"landcolor\":\"#E5ECF6\",\"showlakes\":true,\"showland\":true,\"subunitcolor\":\"white\"},\"hoverlabel\":{\"align\":\"left\"},\"hovermode\":\"closest\",\"mapbox\":{\"style\":\"light\"},\"paper_bgcolor\":\"white\",\"plot_bgcolor\":\"#E5ECF6\",\"polar\":{\"angularaxis\":{\"gridcolor\":\"white\",\"linecolor\":\"white\",\"ticks\":\"\"},\"bgcolor\":\"#E5ECF6\",\"radialaxis\":{\"gridcolor\":\"white\",\"linecolor\":\"white\",\"ticks\":\"\"}},\"scene\":{\"xaxis\":{\"backgroundcolor\":\"#E5ECF6\",\"gridcolor\":\"white\",\"gridwidth\":2,\"linecolor\":\"white\",\"showbackground\":true,\"ticks\":\"\",\"zerolinecolor\":\"white\"},\"yaxis\":{\"backgroundcolor\":\"#E5ECF6\",\"gridcolor\":\"white\",\"gridwidth\":2,\"linecolor\":\"white\",\"showbackground\":true,\"ticks\":\"\",\"zerolinecolor\":\"white\"},\"zaxis\":{\"backgroundcolor\":\"#E5ECF6\",\"gridcolor\":\"white\",\"gridwidth\":2,\"linecolor\":\"white\",\"showbackground\":true,\"ticks\":\"\",\"zerolinecolor\":\"white\"}},\"shapedefaults\":{\"line\":{\"color\":\"#2a3f5f\"}},\"ternary\":{\"aaxis\":{\"gridcolor\":\"white\",\"linecolor\":\"white\",\"ticks\":\"\"},\"baxis\":{\"gridcolor\":\"white\",\"linecolor\":\"white\",\"ticks\":\"\"},\"bgcolor\":\"#E5ECF6\",\"caxis\":{\"gridcolor\":\"white\",\"linecolor\":\"white\",\"ticks\":\"\"}},\"title\":{\"x\":0.05},\"xaxis\":{\"automargin\":true,\"gridcolor\":\"white\",\"linecolor\":\"white\",\"ticks\":\"\",\"title\":{\"standoff\":15},\"zerolinecolor\":\"white\",\"zerolinewidth\":2},\"yaxis\":{\"automargin\":true,\"gridcolor\":\"white\",\"linecolor\":\"white\",\"ticks\":\"\",\"title\":{\"standoff\":15},\"zerolinecolor\":\"white\",\"zerolinewidth\":2}}},\"xaxis\":{\"anchor\":\"y\",\"domain\":[0.0,1.0],\"title\":{\"text\":\"Fatores\"},\"tickfont\":{\"size\":15}},\"yaxis\":{\"anchor\":\"x\",\"domain\":[0.0,1.0],\"title\":{\"text\":\"Porcentagem de variancas explicadas\"},\"tickfont\":{\"size\":15}},\"legend\":{\"tracegroupgap\":0},\"title\":{\"text\":\"Scren Plot\",\"font\":{\"size\":25}},\"barmode\":\"relative\"},                        {\"responsive\": true}                    ).then(function(){\n",
       "                            \n",
       "var gd = document.getElementById('a5d8a116-37a6-4c0d-b7c0-b7a80ceea187');\n",
       "var x = new MutationObserver(function (mutations, observer) {{\n",
       "        var display = window.getComputedStyle(gd).display;\n",
       "        if (!display || display === 'none') {{\n",
       "            console.log([gd, 'removed!']);\n",
       "            Plotly.purge(gd);\n",
       "            observer.disconnect();\n",
       "        }}\n",
       "}});\n",
       "\n",
       "// Listen for the removal of the full notebook cells\n",
       "var notebookContainer = gd.closest('#notebook-container');\n",
       "if (notebookContainer) {{\n",
       "    x.observe(notebookContainer, {childList: true});\n",
       "}}\n",
       "\n",
       "// Listen for the clearing of the current output cell\n",
       "var outputEl = gd.closest('.output');\n",
       "if (outputEl) {{\n",
       "    x.observe(outputEl, {childList: true});\n",
       "}}\n",
       "\n",
       "                        })                };                });            </script>        </div>"
      ]
     },
     "metadata": {},
     "output_type": "display_data"
    }
   ],
   "source": [
    "fig = px.bar(x= fatores, y = variancia_acumulada, text = np.around(variancia_acumulada, decimals =2),\n",
    "            title = \"Scren Plot\")\n",
    "fig.update_layout(yaxis ={'title': 'Porcentagem de variancas explicadas', 'tickfont': {'size': 15}},\n",
    "                 xaxis = {'title': 'Fatores','tickfont': {'size': 15}}, \n",
    "                 title= {'font':{'size':25}})\n",
    "fig.show()"
   ]
  },
  {
   "cell_type": "markdown",
   "id": "62ed0b47",
   "metadata": {},
   "source": [
    "### Aqui consigo analisar que o PCA funcionou de maneira eficaz porque com 2 ou 3 fatores eu consigo explicar a base"
   ]
  }
 ],
 "metadata": {
  "kernelspec": {
   "display_name": "Python 3 (ipykernel)",
   "language": "python",
   "name": "python3"
  },
  "language_info": {
   "codemirror_mode": {
    "name": "ipython",
    "version": 3
   },
   "file_extension": ".py",
   "mimetype": "text/x-python",
   "name": "python",
   "nbconvert_exporter": "python",
   "pygments_lexer": "ipython3",
   "version": "3.9.12"
  }
 },
 "nbformat": 4,
 "nbformat_minor": 5
}
